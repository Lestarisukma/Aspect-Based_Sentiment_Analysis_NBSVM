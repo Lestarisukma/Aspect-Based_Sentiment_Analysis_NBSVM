{
 "cells": [
  {
   "cell_type": "code",
   "execution_count": 1,
   "id": "edd43315",
   "metadata": {},
   "outputs": [],
   "source": [
    "!pip -q install pyspellchecker optuna"
   ]
  },
  {
   "cell_type": "code",
   "execution_count": 8,
   "id": "7db78a1d",
   "metadata": {},
   "outputs": [],
   "source": [
    "import pandas as pd\n",
    "import numpy as np\n",
    "import ast\n",
    "import re\n",
    "import sklearn\n",
    "import six\n",
    "import optuna\n",
    "from abc import ABCMeta\n",
    "from sklearn.base import BaseEstimator, ClassifierMixin\n",
    "from sklearn.utils.extmath import safe_sparse_dot\n",
    "from scipy import sparse\n",
    "import warnings\n",
    "warnings.filterwarnings('ignore')\n",
    "import nltk\n",
    "import six\n",
    "import re\n",
    "import gensim\n",
    "\n",
    "from sklearn.model_selection import train_test_split\n",
    "from sklearn.feature_extraction.text import TfidfVectorizer\n",
    "from sklearn.preprocessing import LabelEncoder\n",
    "from sklearn.svm import LinearSVC\n",
    "from abc import ABCMeta\n",
    "from sklearn.pipeline import Pipeline\n",
    "from sklearn.utils import check_X_y, check_array\n",
    "from scipy import sparse\n",
    "from nltk.stem import PorterStemmer,WordNetLemmatizer\n",
    "from scipy.sparse import issparse\n",
    "from sklearn.base import BaseEstimator, ClassifierMixin\n",
    "from sklearn.utils.extmath import safe_sparse_dot\n",
    "from sklearn.preprocessing import normalize, binarize, LabelBinarizer\n",
    "from sklearn.feature_extraction.text import CountVectorizer,TfidfVectorizer,TfidfTransformer\n",
    "from sklearn.utils import resample\n",
    "from sklearn.metrics import accuracy_score,f1_score"
   ]
  },
  {
   "cell_type": "code",
   "execution_count": 9,
   "id": "e372aa64",
   "metadata": {},
   "outputs": [
    {
     "data": {
      "text/html": [
       "<div>\n",
       "<style scoped>\n",
       "    .dataframe tbody tr th:only-of-type {\n",
       "        vertical-align: middle;\n",
       "    }\n",
       "\n",
       "    .dataframe tbody tr th {\n",
       "        vertical-align: top;\n",
       "    }\n",
       "\n",
       "    .dataframe thead th {\n",
       "        text-align: right;\n",
       "    }\n",
       "</style>\n",
       "<table border=\"1\" class=\"dataframe\">\n",
       "  <thead>\n",
       "    <tr style=\"text-align: right;\">\n",
       "      <th></th>\n",
       "      <th>Username</th>\n",
       "      <th>Text</th>\n",
       "      <th>Sinyal</th>\n",
       "      <th>text_result</th>\n",
       "    </tr>\n",
       "  </thead>\n",
       "  <tbody>\n",
       "    <tr>\n",
       "      <th>0</th>\n",
       "      <td>satriafakhri_id</td>\n",
       "      <td>@yamasaiyaa untuk masalah hp lapor aja ke yg b...</td>\n",
       "      <td>0.0</td>\n",
       "      <td>['handphone', 'lapor', 'wajib', 'bantu', 'laca...</td>\n",
       "    </tr>\n",
       "    <tr>\n",
       "      <th>1</th>\n",
       "      <td>Piyuuuuu21_</td>\n",
       "      <td>@bertanyarl Gatau, akhir akhir ini Telkomsel l...</td>\n",
       "      <td>-1.0</td>\n",
       "      <td>['tidak tahu', 'telkomsel', 'lambat', 'kuota',...</td>\n",
       "    </tr>\n",
       "    <tr>\n",
       "      <th>2</th>\n",
       "      <td>hypersex_pr</td>\n",
       "      <td>Ada kendala kah dengan sinyal telkomsel</td>\n",
       "      <td>-1.0</td>\n",
       "      <td>['kendala', 'sinyal', 'telkomsel']</td>\n",
       "    </tr>\n",
       "    <tr>\n",
       "      <th>3</th>\n",
       "      <td>snwyscrtimh</td>\n",
       "      <td>@squidwardpemala @Cutimut3 @reihanahsan @sonde...</td>\n",
       "      <td>0.0</td>\n",
       "      <td>['tidak bisa', 'nomor', 'mati', 'dihidupakan',...</td>\n",
       "    </tr>\n",
       "    <tr>\n",
       "      <th>4</th>\n",
       "      <td>aninadhany</td>\n",
       "      <td>@Telkomsel min, dari kmrn aplikasi my telkomse...</td>\n",
       "      <td>0.0</td>\n",
       "      <td>['admin', 'kemarin', 'aplikasi', 'punya', 'tel...</td>\n",
       "    </tr>\n",
       "    <tr>\n",
       "      <th>...</th>\n",
       "      <td>...</td>\n",
       "      <td>...</td>\n",
       "      <td>...</td>\n",
       "      <td>...</td>\n",
       "    </tr>\n",
       "    <tr>\n",
       "      <th>16986</th>\n",
       "      <td>Syaeeef</td>\n",
       "      <td>Sinyal mines, #sinyal #telkomsel #byu.id tolon...</td>\n",
       "      <td>-1.0</td>\n",
       "      <td>['sinyal', 'minus', 'tolong', 'baik', 'problem...</td>\n",
       "    </tr>\n",
       "    <tr>\n",
       "      <th>16987</th>\n",
       "      <td>abdr40</td>\n",
       "      <td>@Telkomsel ini My Telkomsel gangguan sampe kap...</td>\n",
       "      <td>-1.0</td>\n",
       "      <td>['punya', 'telkomsel', 'ganggu', 'aduh', 'desa...</td>\n",
       "    </tr>\n",
       "    <tr>\n",
       "      <th>16988</th>\n",
       "      <td>thepinediary</td>\n",
       "      <td>yaallah nambah2i gawean waeee esuk2 kudu neng ...</td>\n",
       "      <td>0.0</td>\n",
       "      <td>['allah', 'tambah', 'kerja', 'esuk', 'neng', '...</td>\n",
       "    </tr>\n",
       "    <tr>\n",
       "      <th>16989</th>\n",
       "      <td>yudaamaraa</td>\n",
       "      <td>@Telkomsel min sinyal telkomsel di rumah saya ...</td>\n",
       "      <td>-1.0</td>\n",
       "      <td>['admin', 'sinyal', 'telkomsel', 'rumah', 'dae...</td>\n",
       "    </tr>\n",
       "    <tr>\n",
       "      <th>16990</th>\n",
       "      <td>ytojerxhi</td>\n",
       "      <td>@convomf tante nya sender pke nomor apa? kl Te...</td>\n",
       "      <td>0.0</td>\n",
       "      <td>['tante', 'kirim', 'pakai', 'nomor', 'telkomse...</td>\n",
       "    </tr>\n",
       "  </tbody>\n",
       "</table>\n",
       "<p>16991 rows × 4 columns</p>\n",
       "</div>"
      ],
      "text/plain": [
       "              Username                                               Text  \\\n",
       "0      satriafakhri_id  @yamasaiyaa untuk masalah hp lapor aja ke yg b...   \n",
       "1          Piyuuuuu21_  @bertanyarl Gatau, akhir akhir ini Telkomsel l...   \n",
       "2          hypersex_pr            Ada kendala kah dengan sinyal telkomsel   \n",
       "3          snwyscrtimh  @squidwardpemala @Cutimut3 @reihanahsan @sonde...   \n",
       "4           aninadhany  @Telkomsel min, dari kmrn aplikasi my telkomse...   \n",
       "...                ...                                                ...   \n",
       "16986          Syaeeef  Sinyal mines, #sinyal #telkomsel #byu.id tolon...   \n",
       "16987           abdr40  @Telkomsel ini My Telkomsel gangguan sampe kap...   \n",
       "16988     thepinediary  yaallah nambah2i gawean waeee esuk2 kudu neng ...   \n",
       "16989       yudaamaraa  @Telkomsel min sinyal telkomsel di rumah saya ...   \n",
       "16990        ytojerxhi  @convomf tante nya sender pke nomor apa? kl Te...   \n",
       "\n",
       "       Sinyal                                        text_result  \n",
       "0         0.0  ['handphone', 'lapor', 'wajib', 'bantu', 'laca...  \n",
       "1        -1.0  ['tidak tahu', 'telkomsel', 'lambat', 'kuota',...  \n",
       "2        -1.0                 ['kendala', 'sinyal', 'telkomsel']  \n",
       "3         0.0  ['tidak bisa', 'nomor', 'mati', 'dihidupakan',...  \n",
       "4         0.0  ['admin', 'kemarin', 'aplikasi', 'punya', 'tel...  \n",
       "...       ...                                                ...  \n",
       "16986    -1.0  ['sinyal', 'minus', 'tolong', 'baik', 'problem...  \n",
       "16987    -1.0  ['punya', 'telkomsel', 'ganggu', 'aduh', 'desa...  \n",
       "16988     0.0  ['allah', 'tambah', 'kerja', 'esuk', 'neng', '...  \n",
       "16989    -1.0  ['admin', 'sinyal', 'telkomsel', 'rumah', 'dae...  \n",
       "16990     0.0  ['tante', 'kirim', 'pakai', 'nomor', 'telkomse...  \n",
       "\n",
       "[16991 rows x 4 columns]"
      ]
     },
     "execution_count": 9,
     "metadata": {},
     "output_type": "execute_result"
    }
   ],
   "source": [
    "tsel = pd.read_csv(r'Prepro_Sinyal.csv', usecols=['Username','Text','Sinyal','text_result'])\n",
    "tsel"
   ]
  },
  {
   "cell_type": "code",
   "execution_count": 10,
   "id": "53507a7d",
   "metadata": {},
   "outputs": [],
   "source": [
    "tsel['text_result'] = tsel['text_result'].apply(str)"
   ]
  },
  {
   "cell_type": "code",
   "execution_count": 11,
   "id": "905d8cbc",
   "metadata": {},
   "outputs": [
    {
     "data": {
      "text/html": [
       "<div>\n",
       "<style scoped>\n",
       "    .dataframe tbody tr th:only-of-type {\n",
       "        vertical-align: middle;\n",
       "    }\n",
       "\n",
       "    .dataframe tbody tr th {\n",
       "        vertical-align: top;\n",
       "    }\n",
       "\n",
       "    .dataframe thead th {\n",
       "        text-align: right;\n",
       "    }\n",
       "</style>\n",
       "<table border=\"1\" class=\"dataframe\">\n",
       "  <thead>\n",
       "    <tr style=\"text-align: right;\">\n",
       "      <th></th>\n",
       "      <th>Username</th>\n",
       "      <th>Text</th>\n",
       "      <th>Sinyal</th>\n",
       "      <th>text_result</th>\n",
       "    </tr>\n",
       "  </thead>\n",
       "  <tbody>\n",
       "    <tr>\n",
       "      <th>0</th>\n",
       "      <td>satriafakhri_id</td>\n",
       "      <td>@yamasaiyaa untuk masalah hp lapor aja ke yg b...</td>\n",
       "      <td>0.0</td>\n",
       "      <td>handphone lapor wajib bantu lacak imei perihal...</td>\n",
       "    </tr>\n",
       "    <tr>\n",
       "      <th>1</th>\n",
       "      <td>Piyuuuuu21_</td>\n",
       "      <td>@bertanyarl Gatau, akhir akhir ini Telkomsel l...</td>\n",
       "      <td>-1.0</td>\n",
       "      <td>tidak tahu telkomsel lambat kuota promo murah ...</td>\n",
       "    </tr>\n",
       "    <tr>\n",
       "      <th>2</th>\n",
       "      <td>hypersex_pr</td>\n",
       "      <td>Ada kendala kah dengan sinyal telkomsel</td>\n",
       "      <td>-1.0</td>\n",
       "      <td>kendala sinyal telkomsel</td>\n",
       "    </tr>\n",
       "    <tr>\n",
       "      <th>3</th>\n",
       "      <td>snwyscrtimh</td>\n",
       "      <td>@squidwardpemala @Cutimut3 @reihanahsan @sonde...</td>\n",
       "      <td>0.0</td>\n",
       "      <td>tidak bisa nomor mati dihidupakan grapari nomo...</td>\n",
       "    </tr>\n",
       "    <tr>\n",
       "      <th>4</th>\n",
       "      <td>aninadhany</td>\n",
       "      <td>@Telkomsel min, dari kmrn aplikasi my telkomse...</td>\n",
       "      <td>0.0</td>\n",
       "      <td>admin kemarin aplikasi punya telkomsel ganggu ...</td>\n",
       "    </tr>\n",
       "    <tr>\n",
       "      <th>...</th>\n",
       "      <td>...</td>\n",
       "      <td>...</td>\n",
       "      <td>...</td>\n",
       "      <td>...</td>\n",
       "    </tr>\n",
       "    <tr>\n",
       "      <th>16986</th>\n",
       "      <td>Syaeeef</td>\n",
       "      <td>Sinyal mines, #sinyal #telkomsel #byu.id tolon...</td>\n",
       "      <td>-1.0</td>\n",
       "      <td>sinyal minus tolong baik problem location cama...</td>\n",
       "    </tr>\n",
       "    <tr>\n",
       "      <th>16987</th>\n",
       "      <td>abdr40</td>\n",
       "      <td>@Telkomsel ini My Telkomsel gangguan sampe kap...</td>\n",
       "      <td>-1.0</td>\n",
       "      <td>punya telkomsel ganggu aduh desak pakai</td>\n",
       "    </tr>\n",
       "    <tr>\n",
       "      <th>16988</th>\n",
       "      <td>thepinediary</td>\n",
       "      <td>yaallah nambah2i gawean waeee esuk2 kudu neng ...</td>\n",
       "      <td>0.0</td>\n",
       "      <td>allah tambah kerja esuk neng grapari</td>\n",
       "    </tr>\n",
       "    <tr>\n",
       "      <th>16989</th>\n",
       "      <td>yudaamaraa</td>\n",
       "      <td>@Telkomsel min sinyal telkomsel di rumah saya ...</td>\n",
       "      <td>-1.0</td>\n",
       "      <td>admin sinyal telkomsel rumah daerah rawabunga ...</td>\n",
       "    </tr>\n",
       "    <tr>\n",
       "      <th>16990</th>\n",
       "      <td>ytojerxhi</td>\n",
       "      <td>@convomf tante nya sender pke nomor apa? kl Te...</td>\n",
       "      <td>0.0</td>\n",
       "      <td>tante kirim pakai nomor telkomsel langsung gra...</td>\n",
       "    </tr>\n",
       "  </tbody>\n",
       "</table>\n",
       "<p>16991 rows × 4 columns</p>\n",
       "</div>"
      ],
      "text/plain": [
       "              Username                                               Text  \\\n",
       "0      satriafakhri_id  @yamasaiyaa untuk masalah hp lapor aja ke yg b...   \n",
       "1          Piyuuuuu21_  @bertanyarl Gatau, akhir akhir ini Telkomsel l...   \n",
       "2          hypersex_pr            Ada kendala kah dengan sinyal telkomsel   \n",
       "3          snwyscrtimh  @squidwardpemala @Cutimut3 @reihanahsan @sonde...   \n",
       "4           aninadhany  @Telkomsel min, dari kmrn aplikasi my telkomse...   \n",
       "...                ...                                                ...   \n",
       "16986          Syaeeef  Sinyal mines, #sinyal #telkomsel #byu.id tolon...   \n",
       "16987           abdr40  @Telkomsel ini My Telkomsel gangguan sampe kap...   \n",
       "16988     thepinediary  yaallah nambah2i gawean waeee esuk2 kudu neng ...   \n",
       "16989       yudaamaraa  @Telkomsel min sinyal telkomsel di rumah saya ...   \n",
       "16990        ytojerxhi  @convomf tante nya sender pke nomor apa? kl Te...   \n",
       "\n",
       "       Sinyal                                        text_result  \n",
       "0         0.0  handphone lapor wajib bantu lacak imei perihal...  \n",
       "1        -1.0  tidak tahu telkomsel lambat kuota promo murah ...  \n",
       "2        -1.0                           kendala sinyal telkomsel  \n",
       "3         0.0  tidak bisa nomor mati dihidupakan grapari nomo...  \n",
       "4         0.0  admin kemarin aplikasi punya telkomsel ganggu ...  \n",
       "...       ...                                                ...  \n",
       "16986    -1.0  sinyal minus tolong baik problem location cama...  \n",
       "16987    -1.0            punya telkomsel ganggu aduh desak pakai  \n",
       "16988     0.0               allah tambah kerja esuk neng grapari  \n",
       "16989    -1.0  admin sinyal telkomsel rumah daerah rawabunga ...  \n",
       "16990     0.0  tante kirim pakai nomor telkomsel langsung gra...  \n",
       "\n",
       "[16991 rows x 4 columns]"
      ]
     },
     "execution_count": 11,
     "metadata": {},
     "output_type": "execute_result"
    }
   ],
   "source": [
    "import ast\n",
    "\n",
    "def join_text_list(text):\n",
    "    texts = ast.literal_eval(text)\n",
    "    return ' '.join([text for text in texts])\n",
    "\n",
    "tsel['text_result'] = tsel['text_result'].apply(join_text_list)\n",
    "tsel"
   ]
  },
  {
   "cell_type": "code",
   "execution_count": 12,
   "id": "819c8c75",
   "metadata": {},
   "outputs": [],
   "source": [
    "from sklearn.feature_extraction.text import CountVectorizer\n",
    "matrix = CountVectorizer(max_features=1000)\n",
    "vectors = matrix.fit_transform(tsel['text_result']).toarray()"
   ]
  },
  {
   "cell_type": "code",
   "execution_count": 13,
   "id": "324e2420",
   "metadata": {},
   "outputs": [
    {
     "data": {
      "text/plain": [
       "-1.0    9643\n",
       " 0.0    6877\n",
       " 1.0     471\n",
       "Name: Sinyal, dtype: int64"
      ]
     },
     "execution_count": 13,
     "metadata": {},
     "output_type": "execute_result"
    }
   ],
   "source": [
    "tsel['Sinyal'].value_counts()"
   ]
  },
  {
   "cell_type": "code",
   "execution_count": 14,
   "id": "e2e8739f",
   "metadata": {},
   "outputs": [
    {
     "data": {
      "text/plain": [
       "array([[0, 0, 0, ..., 0, 0, 0],\n",
       "       [0, 0, 0, ..., 0, 0, 0],\n",
       "       [0, 0, 0, ..., 0, 0, 0],\n",
       "       ...,\n",
       "       [0, 0, 0, ..., 0, 0, 0],\n",
       "       [0, 0, 1, ..., 0, 0, 0],\n",
       "       [0, 0, 0, ..., 0, 0, 0]], dtype=int64)"
      ]
     },
     "execution_count": 14,
     "metadata": {},
     "output_type": "execute_result"
    }
   ],
   "source": [
    "X = vectors\n",
    "y = tsel['Sinyal']\n",
    "\n",
    "X"
   ]
  },
  {
   "cell_type": "code",
   "execution_count": 15,
   "id": "5338de06",
   "metadata": {},
   "outputs": [],
   "source": [
    "from sklearn.model_selection import train_test_split\n",
    "x_train,x_test,y_train,y_test = train_test_split(X,y, test_size=0.2, random_state=5)"
   ]
  },
  {
   "cell_type": "markdown",
   "id": "6173d7ae",
   "metadata": {},
   "source": [
    "## Klasifikasi NBSVM"
   ]
  },
  {
   "cell_type": "code",
   "execution_count": 16,
   "id": "4db3a0d7",
   "metadata": {},
   "outputs": [],
   "source": [
    "class NBSVM(six.with_metaclass(ABCMeta, BaseEstimator, ClassifierMixin)):\n",
    "    def __init__(self, alpha=1.0, C=1.0, max_iter=10000):\n",
    "        self.alpha = alpha\n",
    "        self.max_iter = max_iter\n",
    "        self.C = C\n",
    "        self.svm_ = [] # fuggly\n",
    "\n",
    "    def fit(self, X, y):\n",
    "        X, y = check_X_y(X, y, 'csr')\n",
    "        _, n_features = X.shape\n",
    "\n",
    "        labelbin = LabelBinarizer()\n",
    "        Y = labelbin.fit_transform(y)\n",
    "        self.classes_ = labelbin.classes_\n",
    "        if Y.shape[1] == 1:\n",
    "            Y = np.concatenate((1 - Y, Y), axis=1)\n",
    "\n",
    "        # LabelBinarizer().fit_transform() returns arrays with dtype=np.int64.\n",
    "        # so we don't have to cast X to floating point\n",
    "        Y = Y.astype(np.float64)\n",
    "\n",
    "        # Count raw events from data\n",
    "        n_effective_classes = Y.shape[1]\n",
    "        self.class_count_ = np.zeros(n_effective_classes, dtype=np.float64)\n",
    "        self.ratios_ = np.full((n_effective_classes, n_features), self.alpha,\n",
    "                                 dtype=np.float64)\n",
    "        self._compute_ratios(X, Y)\n",
    "\n",
    "        # flugglyness\n",
    "        for i in range(n_effective_classes):\n",
    "            X_i = X.multiply(self.ratios_[i])\n",
    "            svm = LinearSVC(C=self.C, max_iter=self.max_iter)\n",
    "            Y_i = Y[:,i]\n",
    "            svm.fit(X_i, Y_i)\n",
    "            self.svm_.append(svm) \n",
    "\n",
    "        return self\n",
    "\n",
    "    def predict(self, X):\n",
    "        n_effective_classes = self.class_count_.shape[0]\n",
    "        n_examples = X.shape[0]\n",
    "\n",
    "        D = np.zeros((n_effective_classes, n_examples))\n",
    "\n",
    "        for i in range(n_effective_classes):\n",
    "            X_i = X.multiply(self.ratios_[i])\n",
    "            D[i] = self.svm_[i].decision_function(X_i)\n",
    "        \n",
    "        return self.classes_[np.argmax(D, axis=0)]\n",
    "        \n",
    "    def _compute_ratios(self, X, Y):\n",
    "        \"\"\"Count feature occurrences and compute ratios.\"\"\"\n",
    "        if np.any((X.data if issparse(X) else X) < 0):\n",
    "            raise ValueError(\"Input X must be non-negative\")\n",
    "\n",
    "        self.ratios_ += safe_sparse_dot(Y.T, X)  # ratio + feature_occurrance_c\n",
    "        normalize(self.ratios_, norm='l1', axis=1, copy=False)\n",
    "        row_calc = lambda r: np.log(np.divide(r, (1 - r)))\n",
    "        self.ratios_ = np.apply_along_axis(row_calc, axis=1, arr=self.ratios_)\n",
    "        check_array(self.ratios_)\n",
    "        self.ratios_ = sparse.csr_matrix(self.ratios_)"
   ]
  },
  {
   "cell_type": "code",
   "execution_count": 17,
   "id": "10b15bf7",
   "metadata": {},
   "outputs": [],
   "source": [
    "x_train_csr = sparse.csr_matrix(x_train)\n",
    "x_test_csr = sparse.csr_matrix(x_test)\n",
    "# model = NBSVM()\n",
    "\n",
    "# model.fit(x_train_csr,y_train)\n",
    "# y_pred = model.predict(x_test_csr)\n",
    "# y_true = y_test"
   ]
  },
  {
   "cell_type": "code",
   "execution_count": 18,
   "id": "54b30f5a",
   "metadata": {},
   "outputs": [],
   "source": [
    "def objective(trial):\n",
    "    C = trial.suggest_float(name=\"C\", low=1e2, high=1e4, log=True)\n",
    "    max_iter = trial.suggest_discrete_uniform(name=\"max_iter\", low=50, high=500, q=50)\n",
    "    nbsvm = NBSVM(C=C, max_iter=max_iter)\n",
    "    \n",
    "    nbsvm.fit(x_train_csr, y_train)\n",
    "    \n",
    "    y_preds = nbsvm.predict(x_test_csr)\n",
    "    y_preds[y_preds>=0.5] = 1\n",
    "    y_preds[y_preds<0.5] = 0\n",
    "    \n",
    "    acc = accuracy_score(y_test, y_preds)\n",
    "    return acc"
   ]
  },
  {
   "cell_type": "code",
   "execution_count": 92,
   "id": "f7df9a15",
   "metadata": {},
   "outputs": [
    {
     "name": "stderr",
     "output_type": "stream",
     "text": [
      "\u001b[32m[I 2022-07-07 22:34:04,254]\u001b[0m A new study created in memory with name: no-name-2eb733c0-c318-4df4-a025-8a9541af3302\u001b[0m\n"
     ]
    },
    {
     "data": {
      "application/vnd.jupyter.widget-view+json": {
       "model_id": "a9697e8878874a03bc82c08b86f5a071",
       "version_major": 2,
       "version_minor": 0
      },
      "text/plain": [
       "  0%|          | 0/100 [00:00<?, ?it/s]"
      ]
     },
     "metadata": {},
     "output_type": "display_data"
    },
    {
     "name": "stdout",
     "output_type": "stream",
     "text": [
      "\u001b[32m[I 2022-07-07 22:34:04,514]\u001b[0m Trial 0 finished with value: 0.4148278905560459 and parameters: {'C': 103.8786405632356, 'max_iter': 150.0}. Best is trial 0 with value: 0.4148278905560459.\u001b[0m\n",
      "\u001b[32m[I 2022-07-07 22:34:04,826]\u001b[0m Trial 1 finished with value: 0.4145336863783466 and parameters: {'C': 4457.1884769851995, 'max_iter': 200.0}. Best is trial 0 with value: 0.4148278905560459.\u001b[0m\n",
      "\u001b[32m[I 2022-07-07 22:34:05,294]\u001b[0m Trial 2 finished with value: 0.4127684613121506 and parameters: {'C': 1496.4258161821385, 'max_iter': 350.0}. Best is trial 0 with value: 0.4148278905560459.\u001b[0m\n",
      "\u001b[32m[I 2022-07-07 22:34:05,466]\u001b[0m Trial 3 finished with value: 0.41512209473374523 and parameters: {'C': 1175.1006750980189, 'max_iter': 100.0}. Best is trial 3 with value: 0.41512209473374523.\u001b[0m\n",
      "\u001b[32m[I 2022-07-07 22:34:06,142]\u001b[0m Trial 4 finished with value: 0.412180052956752 and parameters: {'C': 2939.6089808499405, 'max_iter': 500.0}. Best is trial 3 with value: 0.41512209473374523.\u001b[0m\n",
      "\u001b[32m[I 2022-07-07 22:34:06,398]\u001b[0m Trial 5 finished with value: 0.4145336863783466 and parameters: {'C': 133.2360463177284, 'max_iter': 150.0}. Best is trial 3 with value: 0.41512209473374523.\u001b[0m\n",
      "\u001b[32m[I 2022-07-07 22:34:06,734]\u001b[0m Trial 6 finished with value: 0.41365107384524863 and parameters: {'C': 3696.2772524845805, 'max_iter': 200.0}. Best is trial 3 with value: 0.41512209473374523.\u001b[0m\n",
      "\u001b[32m[I 2022-07-07 22:34:07,331]\u001b[0m Trial 7 finished with value: 0.41188584877905265 and parameters: {'C': 3815.198394983064, 'max_iter': 450.0}. Best is trial 3 with value: 0.41512209473374523.\u001b[0m\n",
      "\u001b[32m[I 2022-07-07 22:34:07,832]\u001b[0m Trial 8 finished with value: 0.4127684613121506 and parameters: {'C': 3057.300530677127, 'max_iter': 350.0}. Best is trial 3 with value: 0.41512209473374523.\u001b[0m\n",
      "\u001b[32m[I 2022-07-07 22:34:07,956]\u001b[0m Trial 9 finished with value: 0.4148278905560459 and parameters: {'C': 152.8305651447939, 'max_iter': 50.0}. Best is trial 3 with value: 0.41512209473374523.\u001b[0m\n",
      "\u001b[32m[I 2022-07-07 22:34:08,090]\u001b[0m Trial 10 finished with value: 0.4145336863783466 and parameters: {'C': 441.6755403736885, 'max_iter': 50.0}. Best is trial 3 with value: 0.41512209473374523.\u001b[0m\n",
      "\u001b[32m[I 2022-07-07 22:34:08,356]\u001b[0m Trial 11 finished with value: 0.4162989114445425 and parameters: {'C': 560.262515758042, 'max_iter': 150.0}. Best is trial 11 with value: 0.4162989114445425.\u001b[0m\n",
      "\u001b[32m[I 2022-07-07 22:34:08,544]\u001b[0m Trial 12 finished with value: 0.4162989114445425 and parameters: {'C': 597.2087491182826, 'max_iter': 100.0}. Best is trial 11 with value: 0.4162989114445425.\u001b[0m\n",
      "\u001b[32m[I 2022-07-07 22:34:08,931]\u001b[0m Trial 13 finished with value: 0.4127684613121506 and parameters: {'C': 432.5228142956664, 'max_iter': 250.0}. Best is trial 11 with value: 0.4162989114445425.\u001b[0m\n",
      "\u001b[32m[I 2022-07-07 22:34:09,113]\u001b[0m Trial 14 finished with value: 0.41423948220064727 and parameters: {'C': 494.0219567783996, 'max_iter': 100.0}. Best is trial 11 with value: 0.4162989114445425.\u001b[0m\n",
      "\u001b[32m[I 2022-07-07 22:34:09,534]\u001b[0m Trial 15 finished with value: 0.41541629891144455 and parameters: {'C': 281.1132403700197, 'max_iter': 300.0}. Best is trial 11 with value: 0.4162989114445425.\u001b[0m\n",
      "\u001b[32m[I 2022-07-07 22:34:09,794]\u001b[0m Trial 16 finished with value: 0.41394527802294795 and parameters: {'C': 9976.840072857138, 'max_iter': 150.0}. Best is trial 11 with value: 0.4162989114445425.\u001b[0m\n",
      "\u001b[32m[I 2022-07-07 22:34:10,155]\u001b[0m Trial 17 finished with value: 0.41365107384524863 and parameters: {'C': 766.3121470364824, 'max_iter': 250.0}. Best is trial 11 with value: 0.4162989114445425.\u001b[0m\n",
      "\u001b[32m[I 2022-07-07 22:34:10,272]\u001b[0m Trial 18 finished with value: 0.4148278905560459 and parameters: {'C': 254.05953274871428, 'max_iter': 50.0}. Best is trial 11 with value: 0.4162989114445425.\u001b[0m\n",
      "\u001b[32m[I 2022-07-07 22:34:10,451]\u001b[0m Trial 19 finished with value: 0.4148278905560459 and parameters: {'C': 815.2352302986486, 'max_iter': 100.0}. Best is trial 11 with value: 0.4162989114445425.\u001b[0m\n",
      "\u001b[32m[I 2022-07-07 22:34:10,769]\u001b[0m Trial 20 finished with value: 0.41394527802294795 and parameters: {'C': 1757.9429481304524, 'max_iter': 200.0}. Best is trial 11 with value: 0.4162989114445425.\u001b[0m\n",
      "\u001b[32m[I 2022-07-07 22:34:11,182]\u001b[0m Trial 21 finished with value: 0.41423948220064727 and parameters: {'C': 258.7931523853891, 'max_iter': 300.0}. Best is trial 11 with value: 0.4162989114445425.\u001b[0m\n",
      "\u001b[32m[I 2022-07-07 22:34:11,654]\u001b[0m Trial 22 finished with value: 0.41394527802294795 and parameters: {'C': 263.4201928531537, 'max_iter': 350.0}. Best is trial 11 with value: 0.4162989114445425.\u001b[0m\n",
      "\u001b[32m[I 2022-07-07 22:34:12,086]\u001b[0m Trial 23 finished with value: 0.41394527802294795 and parameters: {'C': 628.0790986039568, 'max_iter': 300.0}. Best is trial 11 with value: 0.4162989114445425.\u001b[0m\n",
      "\u001b[32m[I 2022-07-07 22:34:12,613]\u001b[0m Trial 24 finished with value: 0.41512209473374523 and parameters: {'C': 342.2051060460684, 'max_iter': 400.0}. Best is trial 11 with value: 0.4162989114445425.\u001b[0m\n",
      "\u001b[32m[I 2022-07-07 22:34:12,977]\u001b[0m Trial 25 finished with value: 0.41423948220064727 and parameters: {'C': 171.1019447586094, 'max_iter': 250.0}. Best is trial 11 with value: 0.4162989114445425.\u001b[0m\n",
      "\u001b[32m[I 2022-07-07 22:34:13,232]\u001b[0m Trial 26 finished with value: 0.41541629891144455 and parameters: {'C': 1054.3363551104067, 'max_iter': 150.0}. Best is trial 11 with value: 0.4162989114445425.\u001b[0m\n",
      "\u001b[32m[I 2022-07-07 22:34:13,475]\u001b[0m Trial 27 finished with value: 0.41571050308914387 and parameters: {'C': 2009.7296632341395, 'max_iter': 150.0}. Best is trial 11 with value: 0.4162989114445425.\u001b[0m\n",
      "\u001b[32m[I 2022-07-07 22:34:13,657]\u001b[0m Trial 28 finished with value: 0.41541629891144455 and parameters: {'C': 2013.185865447115, 'max_iter': 100.0}. Best is trial 11 with value: 0.4162989114445425.\u001b[0m\n",
      "\u001b[32m[I 2022-07-07 22:34:13,965]\u001b[0m Trial 29 finished with value: 0.41541629891144455 and parameters: {'C': 6021.099827160696, 'max_iter': 200.0}. Best is trial 11 with value: 0.4162989114445425.\u001b[0m\n",
      "\u001b[32m[I 2022-07-07 22:34:14,157]\u001b[0m Trial 30 finished with value: 0.4160047072668432 and parameters: {'C': 603.3196298478357, 'max_iter': 100.0}. Best is trial 11 with value: 0.4162989114445425.\u001b[0m\n",
      "\u001b[32m[I 2022-07-07 22:34:14,406]\u001b[0m Trial 31 finished with value: 0.4145336863783466 and parameters: {'C': 651.037099377814, 'max_iter': 150.0}. Best is trial 11 with value: 0.4162989114445425.\u001b[0m\n",
      "\u001b[32m[I 2022-07-07 22:34:14,593]\u001b[0m Trial 32 finished with value: 0.4148278905560459 and parameters: {'C': 1211.3272924889604, 'max_iter': 100.0}. Best is trial 11 with value: 0.4162989114445425.\u001b[0m\n",
      "\u001b[32m[I 2022-07-07 22:34:14,736]\u001b[0m Trial 33 finished with value: 0.41512209473374523 and parameters: {'C': 2256.8481781209703, 'max_iter': 50.0}. Best is trial 11 with value: 0.4162989114445425.\u001b[0m\n",
      "\u001b[32m[I 2022-07-07 22:34:15,015]\u001b[0m Trial 34 finished with value: 0.41394527802294795 and parameters: {'C': 835.4401961016214, 'max_iter': 150.0}. Best is trial 11 with value: 0.4162989114445425.\u001b[0m\n",
      "\u001b[32m[I 2022-07-07 22:34:15,372]\u001b[0m Trial 35 finished with value: 0.41394527802294795 and parameters: {'C': 1442.7637981132375, 'max_iter': 200.0}. Best is trial 11 with value: 0.4162989114445425.\u001b[0m\n",
      "\u001b[32m[I 2022-07-07 22:34:15,560]\u001b[0m Trial 36 finished with value: 0.4162989114445425 and parameters: {'C': 549.8473871313893, 'max_iter': 100.0}. Best is trial 11 with value: 0.4162989114445425.\u001b[0m\n",
      "\u001b[32m[I 2022-07-07 22:34:15,735]\u001b[0m Trial 37 finished with value: 0.41335686966754925 and parameters: {'C': 519.4822828045361, 'max_iter': 100.0}. Best is trial 11 with value: 0.4162989114445425.\u001b[0m\n",
      "\u001b[32m[I 2022-07-07 22:34:15,851]\u001b[0m Trial 38 finished with value: 0.41306266548984993 and parameters: {'C': 384.2834849343954, 'max_iter': 50.0}. Best is trial 11 with value: 0.4162989114445425.\u001b[0m\n",
      "\u001b[32m[I 2022-07-07 22:34:16,052]\u001b[0m Trial 39 finished with value: 0.41394527802294795 and parameters: {'C': 596.9893436289618, 'max_iter': 100.0}. Best is trial 11 with value: 0.4162989114445425.\u001b[0m\n",
      "\u001b[32m[I 2022-07-07 22:34:16,324]\u001b[0m Trial 40 finished with value: 0.4160047072668432 and parameters: {'C': 197.17749154799483, 'max_iter': 150.0}. Best is trial 11 with value: 0.4162989114445425.\u001b[0m\n"
     ]
    },
    {
     "name": "stdout",
     "output_type": "stream",
     "text": [
      "\u001b[32m[I 2022-07-07 22:34:16,587]\u001b[0m Trial 41 finished with value: 0.4127684613121506 and parameters: {'C': 116.1802681274146, 'max_iter': 150.0}. Best is trial 11 with value: 0.4162989114445425.\u001b[0m\n",
      "\u001b[32m[I 2022-07-07 22:34:16,773]\u001b[0m Trial 42 finished with value: 0.4148278905560459 and parameters: {'C': 174.76048927465303, 'max_iter': 100.0}. Best is trial 11 with value: 0.4162989114445425.\u001b[0m\n",
      "\u001b[32m[I 2022-07-07 22:34:16,905]\u001b[0m Trial 43 finished with value: 0.4145336863783466 and parameters: {'C': 334.439263306567, 'max_iter': 50.0}. Best is trial 11 with value: 0.4162989114445425.\u001b[0m\n",
      "\u001b[32m[I 2022-07-07 22:34:17,223]\u001b[0m Trial 44 finished with value: 0.4127684613121506 and parameters: {'C': 935.2623496248435, 'max_iter': 200.0}. Best is trial 11 with value: 0.4162989114445425.\u001b[0m\n",
      "\u001b[32m[I 2022-07-07 22:34:17,400]\u001b[0m Trial 45 finished with value: 0.41541629891144455 and parameters: {'C': 192.22468038438726, 'max_iter': 100.0}. Best is trial 11 with value: 0.4162989114445425.\u001b[0m\n",
      "\u001b[32m[I 2022-07-07 22:34:17,711]\u001b[0m Trial 46 finished with value: 0.41512209473374523 and parameters: {'C': 534.8344301722086, 'max_iter': 200.0}. Best is trial 11 with value: 0.4162989114445425.\u001b[0m\n",
      "\u001b[32m[I 2022-07-07 22:34:17,851]\u001b[0m Trial 47 finished with value: 0.41423948220064727 and parameters: {'C': 210.89768016439882, 'max_iter': 50.0}. Best is trial 11 with value: 0.4162989114445425.\u001b[0m\n",
      "\u001b[32m[I 2022-07-07 22:34:18,581]\u001b[0m Trial 48 finished with value: 0.41365107384524863 and parameters: {'C': 102.47164485183778, 'max_iter': 500.0}. Best is trial 11 with value: 0.4162989114445425.\u001b[0m\n",
      "\u001b[32m[I 2022-07-07 22:34:18,951]\u001b[0m Trial 49 finished with value: 0.41394527802294795 and parameters: {'C': 433.8097567164833, 'max_iter': 150.0}. Best is trial 11 with value: 0.4162989114445425.\u001b[0m\n",
      "\u001b[32m[I 2022-07-07 22:34:19,159]\u001b[0m Trial 50 finished with value: 0.41423948220064727 and parameters: {'C': 706.6980145403842, 'max_iter': 100.0}. Best is trial 11 with value: 0.4162989114445425.\u001b[0m\n",
      "\u001b[32m[I 2022-07-07 22:34:19,394]\u001b[0m Trial 51 finished with value: 0.41512209473374523 and parameters: {'C': 1358.6926820267813, 'max_iter': 150.0}. Best is trial 11 with value: 0.4162989114445425.\u001b[0m\n",
      "\u001b[32m[I 2022-07-07 22:34:19,656]\u001b[0m Trial 52 finished with value: 0.41512209473374523 and parameters: {'C': 955.1705434625479, 'max_iter': 150.0}. Best is trial 11 with value: 0.4162989114445425.\u001b[0m\n",
      "\u001b[32m[I 2022-07-07 22:34:19,872]\u001b[0m Trial 53 finished with value: 0.41512209473374523 and parameters: {'C': 2709.098821491466, 'max_iter': 100.0}. Best is trial 11 with value: 0.4162989114445425.\u001b[0m\n",
      "\u001b[32m[I 2022-07-07 22:34:20,236]\u001b[0m Trial 54 finished with value: 0.41394527802294795 and parameters: {'C': 313.6687735577162, 'max_iter': 200.0}. Best is trial 11 with value: 0.4162989114445425.\u001b[0m\n",
      "\u001b[32m[I 2022-07-07 22:34:20,564]\u001b[0m Trial 55 finished with value: 0.4145336863783466 and parameters: {'C': 1681.7957111081703, 'max_iter': 150.0}. Best is trial 11 with value: 0.4162989114445425.\u001b[0m\n",
      "\u001b[32m[I 2022-07-07 22:34:20,685]\u001b[0m Trial 56 finished with value: 0.4160047072668432 and parameters: {'C': 4258.554646374409, 'max_iter': 50.0}. Best is trial 11 with value: 0.4162989114445425.\u001b[0m\n",
      "\u001b[32m[I 2022-07-07 22:34:20,803]\u001b[0m Trial 57 finished with value: 0.4165931156222418 and parameters: {'C': 387.5256880330418, 'max_iter': 50.0}. Best is trial 57 with value: 0.4165931156222418.\u001b[0m\n",
      "\u001b[32m[I 2022-07-07 22:34:20,917]\u001b[0m Trial 58 finished with value: 0.4148278905560459 and parameters: {'C': 393.40897347746784, 'max_iter': 50.0}. Best is trial 57 with value: 0.4165931156222418.\u001b[0m\n",
      "\u001b[32m[I 2022-07-07 22:34:21,034]\u001b[0m Trial 59 finished with value: 0.41571050308914387 and parameters: {'C': 7291.034757468487, 'max_iter': 50.0}. Best is trial 57 with value: 0.4165931156222418.\u001b[0m\n",
      "\u001b[32m[I 2022-07-07 22:34:21,153]\u001b[0m Trial 60 finished with value: 0.41365107384524863 and parameters: {'C': 144.43196524700807, 'max_iter': 50.0}. Best is trial 57 with value: 0.4165931156222418.\u001b[0m\n",
      "\u001b[32m[I 2022-07-07 22:34:21,368]\u001b[0m Trial 61 finished with value: 0.4145336863783466 and parameters: {'C': 218.51784971808178, 'max_iter': 100.0}. Best is trial 57 with value: 0.4165931156222418.\u001b[0m\n",
      "\u001b[32m[I 2022-07-07 22:34:21,484]\u001b[0m Trial 62 finished with value: 0.41306266548984993 and parameters: {'C': 485.03645552042553, 'max_iter': 50.0}. Best is trial 57 with value: 0.4165931156222418.\u001b[0m\n",
      "\u001b[32m[I 2022-07-07 22:34:21,666]\u001b[0m Trial 63 finished with value: 0.41541629891144455 and parameters: {'C': 612.4223255155126, 'max_iter': 100.0}. Best is trial 57 with value: 0.4165931156222418.\u001b[0m\n",
      "\u001b[32m[I 2022-07-07 22:34:21,786]\u001b[0m Trial 64 finished with value: 0.4148278905560459 and parameters: {'C': 762.7384502116412, 'max_iter': 50.0}. Best is trial 57 with value: 0.4165931156222418.\u001b[0m\n",
      "\u001b[32m[I 2022-07-07 22:34:21,982]\u001b[0m Trial 65 finished with value: 0.41306266548984993 and parameters: {'C': 300.99083579920784, 'max_iter': 100.0}. Best is trial 57 with value: 0.4165931156222418.\u001b[0m\n",
      "\u001b[32m[I 2022-07-07 22:34:22,648]\u001b[0m Trial 66 finished with value: 0.41688731979994115 and parameters: {'C': 4201.8833647853035, 'max_iter': 450.0}. Best is trial 66 with value: 0.41688731979994115.\u001b[0m\n",
      "\u001b[32m[I 2022-07-07 22:34:23,083]\u001b[0m Trial 67 finished with value: 0.4145336863783466 and parameters: {'C': 377.43250840772856, 'max_iter': 300.0}. Best is trial 66 with value: 0.41688731979994115.\u001b[0m\n",
      "\u001b[32m[I 2022-07-07 22:34:23,732]\u001b[0m Trial 68 finished with value: 0.41365107384524863 and parameters: {'C': 6143.833460309713, 'max_iter': 450.0}. Best is trial 66 with value: 0.41688731979994115.\u001b[0m\n",
      "\u001b[32m[I 2022-07-07 22:34:24,333]\u001b[0m Trial 69 finished with value: 0.41335686966754925 and parameters: {'C': 4256.652581387693, 'max_iter': 400.0}. Best is trial 66 with value: 0.41688731979994115.\u001b[0m\n",
      "\u001b[32m[I 2022-07-07 22:34:24,753]\u001b[0m Trial 70 finished with value: 0.41306266548984993 and parameters: {'C': 3262.9635356022472, 'max_iter': 250.0}. Best is trial 66 with value: 0.41688731979994115.\u001b[0m\n",
      "\u001b[32m[I 2022-07-07 22:34:24,965]\u001b[0m Trial 71 finished with value: 0.4160047072668432 and parameters: {'C': 548.6403740381385, 'max_iter': 100.0}. Best is trial 66 with value: 0.41688731979994115.\u001b[0m\n",
      "\u001b[32m[I 2022-07-07 22:34:25,486]\u001b[0m Trial 72 finished with value: 0.41541629891144455 and parameters: {'C': 580.0855706679542, 'max_iter': 350.0}. Best is trial 66 with value: 0.41688731979994115.\u001b[0m\n",
      "\u001b[32m[I 2022-07-07 22:34:25,648]\u001b[0m Trial 73 finished with value: 0.41394527802294795 and parameters: {'C': 449.80329223071533, 'max_iter': 50.0}. Best is trial 66 with value: 0.41688731979994115.\u001b[0m\n",
      "\u001b[32m[I 2022-07-07 22:34:25,897]\u001b[0m Trial 74 finished with value: 0.41394527802294795 and parameters: {'C': 4826.687175038572, 'max_iter': 100.0}. Best is trial 66 with value: 0.41688731979994115.\u001b[0m\n",
      "\u001b[32m[I 2022-07-07 22:34:26,463]\u001b[0m Trial 75 finished with value: 0.41365107384524863 and parameters: {'C': 680.4998220977891, 'max_iter': 400.0}. Best is trial 66 with value: 0.41688731979994115.\u001b[0m\n",
      "\u001b[32m[I 2022-07-07 22:34:27,136]\u001b[0m Trial 76 finished with value: 0.411297440423654 and parameters: {'C': 844.8073100476367, 'max_iter': 450.0}. Best is trial 66 with value: 0.41688731979994115.\u001b[0m\n",
      "\u001b[32m[I 2022-07-07 22:34:27,424]\u001b[0m Trial 77 finished with value: 0.41335686966754925 and parameters: {'C': 9128.982296380866, 'max_iter': 150.0}. Best is trial 66 with value: 0.41688731979994115.\u001b[0m\n",
      "\u001b[32m[I 2022-07-07 22:34:27,554]\u001b[0m Trial 78 finished with value: 0.41688731979994115 and parameters: {'C': 1079.7008186812648, 'max_iter': 50.0}. Best is trial 66 with value: 0.41688731979994115.\u001b[0m\n",
      "\u001b[32m[I 2022-07-07 22:34:27,755]\u001b[0m Trial 79 finished with value: 0.41571050308914387 and parameters: {'C': 1095.2038768710233, 'max_iter': 100.0}. Best is trial 66 with value: 0.41688731979994115.\u001b[0m\n",
      "\u001b[32m[I 2022-07-07 22:34:27,974]\u001b[0m Trial 80 finished with value: 0.41512209473374523 and parameters: {'C': 562.5073165971728, 'max_iter': 100.0}. Best is trial 66 with value: 0.41688731979994115.\u001b[0m\n",
      "\u001b[32m[I 2022-07-07 22:34:28,086]\u001b[0m Trial 81 finished with value: 0.41541629891144455 and parameters: {'C': 243.3439344486534, 'max_iter': 50.0}. Best is trial 66 with value: 0.41688731979994115.\u001b[0m\n"
     ]
    },
    {
     "name": "stdout",
     "output_type": "stream",
     "text": [
      "\u001b[32m[I 2022-07-07 22:34:28,216]\u001b[0m Trial 82 finished with value: 0.4177699323330391 and parameters: {'C': 5024.487171468417, 'max_iter': 50.0}. Best is trial 82 with value: 0.4177699323330391.\u001b[0m\n",
      "\u001b[32m[I 2022-07-07 22:34:28,335]\u001b[0m Trial 83 finished with value: 0.41394527802294795 and parameters: {'C': 478.76121609116996, 'max_iter': 50.0}. Best is trial 82 with value: 0.4177699323330391.\u001b[0m\n",
      "\u001b[32m[I 2022-07-07 22:34:28,459]\u001b[0m Trial 84 finished with value: 0.41541629891144455 and parameters: {'C': 4875.414068474475, 'max_iter': 50.0}. Best is trial 82 with value: 0.4177699323330391.\u001b[0m\n",
      "\u001b[32m[I 2022-07-07 22:34:28,722]\u001b[0m Trial 85 finished with value: 0.41571050308914387 and parameters: {'C': 124.26725611176869, 'max_iter': 150.0}. Best is trial 82 with value: 0.4177699323330391.\u001b[0m\n",
      "\u001b[32m[I 2022-07-07 22:34:28,910]\u001b[0m Trial 86 finished with value: 0.4145336863783466 and parameters: {'C': 2557.313722338783, 'max_iter': 100.0}. Best is trial 82 with value: 0.4177699323330391.\u001b[0m\n",
      "\u001b[32m[I 2022-07-07 22:34:29,114]\u001b[0m Trial 87 finished with value: 0.41306266548984993 and parameters: {'C': 362.73824248673833, 'max_iter': 100.0}. Best is trial 82 with value: 0.4177699323330391.\u001b[0m\n",
      "\u001b[32m[I 2022-07-07 22:34:29,243]\u001b[0m Trial 88 finished with value: 0.41394527802294795 and parameters: {'C': 6141.369085513692, 'max_iter': 50.0}. Best is trial 82 with value: 0.4177699323330391.\u001b[0m\n",
      "\u001b[32m[I 2022-07-07 22:34:29,440]\u001b[0m Trial 89 finished with value: 0.41188584877905265 and parameters: {'C': 698.8920228798115, 'max_iter': 100.0}. Best is trial 82 with value: 0.4177699323330391.\u001b[0m\n",
      "\u001b[32m[I 2022-07-07 22:34:29,563]\u001b[0m Trial 90 finished with value: 0.41335686966754925 and parameters: {'C': 3736.73406474678, 'max_iter': 50.0}. Best is trial 82 with value: 0.4177699323330391.\u001b[0m\n",
      "\u001b[32m[I 2022-07-07 22:34:29,692]\u001b[0m Trial 91 finished with value: 0.4165931156222418 and parameters: {'C': 5683.447055697484, 'max_iter': 50.0}. Best is trial 82 with value: 0.4177699323330391.\u001b[0m\n",
      "\u001b[32m[I 2022-07-07 22:34:29,807]\u001b[0m Trial 92 finished with value: 0.412180052956752 and parameters: {'C': 4286.030436480138, 'max_iter': 50.0}. Best is trial 82 with value: 0.4177699323330391.\u001b[0m\n",
      "\u001b[32m[I 2022-07-07 22:34:29,927]\u001b[0m Trial 93 finished with value: 0.4165931156222418 and parameters: {'C': 4958.259480516535, 'max_iter': 50.0}. Best is trial 82 with value: 0.4177699323330391.\u001b[0m\n",
      "\u001b[32m[I 2022-07-07 22:34:30,046]\u001b[0m Trial 94 finished with value: 0.4177699323330391 and parameters: {'C': 5603.224555684925, 'max_iter': 50.0}. Best is trial 82 with value: 0.4177699323330391.\u001b[0m\n",
      "\u001b[32m[I 2022-07-07 22:34:30,166]\u001b[0m Trial 95 finished with value: 0.41512209473374523 and parameters: {'C': 6959.418698371318, 'max_iter': 50.0}. Best is trial 82 with value: 0.4177699323330391.\u001b[0m\n",
      "\u001b[32m[I 2022-07-07 22:34:30,284]\u001b[0m Trial 96 finished with value: 0.41306266548984993 and parameters: {'C': 5151.608858418516, 'max_iter': 50.0}. Best is trial 82 with value: 0.4177699323330391.\u001b[0m\n",
      "\u001b[32m[I 2022-07-07 22:34:30,403]\u001b[0m Trial 97 finished with value: 0.4145336863783466 and parameters: {'C': 5502.238053025107, 'max_iter': 50.0}. Best is trial 82 with value: 0.4177699323330391.\u001b[0m\n",
      "\u001b[32m[I 2022-07-07 22:34:30,519]\u001b[0m Trial 98 finished with value: 0.41423948220064727 and parameters: {'C': 8141.614109475752, 'max_iter': 50.0}. Best is trial 82 with value: 0.4177699323330391.\u001b[0m\n",
      "\u001b[32m[I 2022-07-07 22:34:30,643]\u001b[0m Trial 99 finished with value: 0.412180052956752 and parameters: {'C': 6609.372435836522, 'max_iter': 50.0}. Best is trial 82 with value: 0.4177699323330391.\u001b[0m\n"
     ]
    }
   ],
   "source": [
    "study = optuna.create_study(direction=\"maximize\")\n",
    "study.optimize(objective, n_trials=100,show_progress_bar=True)"
   ]
  },
  {
   "cell_type": "code",
   "execution_count": 93,
   "id": "1d77e9f4",
   "metadata": {},
   "outputs": [
    {
     "name": "stdout",
     "output_type": "stream",
     "text": [
      "Best Value: 0.4177699323330391\n",
      "Best Params: {'C': 5024.487171468417, 'max_iter': 50.0}\n"
     ]
    }
   ],
   "source": [
    "print(f\"Best Value: {study.best_trial.value}\")\n",
    "print(f\"Best Params: {study.best_params}\")"
   ]
  },
  {
   "cell_type": "code",
   "execution_count": 94,
   "id": "58880b4d",
   "metadata": {},
   "outputs": [],
   "source": [
    "kwargs = study.best_params"
   ]
  },
  {
   "cell_type": "code",
   "execution_count": 95,
   "id": "b738626a",
   "metadata": {},
   "outputs": [],
   "source": [
    "nbsvm = NBSVM(**kwargs)\n",
    "nbsvm.fit(x_train_csr, y_train)\n",
    "y_pred = nbsvm.predict(x_test_csr)\n",
    "y_true = y_test"
   ]
  },
  {
   "cell_type": "markdown",
   "id": "71661543",
   "metadata": {},
   "source": [
    "### Random 5"
   ]
  },
  {
   "cell_type": "code",
   "execution_count": null,
   "id": "fd1eede5",
   "metadata": {},
   "outputs": [],
   "source": [
    "#example training\n",
    "from sklearn.metrics import classification_report, confusion_matrix, accuracy_score, precision_score, recall_score, f1_score\n",
    "#[None, 'micro', 'macro', 'weighted'].\n",
    "print(confusion_matrix(y_true,y_pred))\n",
    "print(classification_report(y_true,y_pred))\n",
    "print(\"Precision: \",precision_score(y_true, y_pred, average=\"macro\"))\n",
    "print(\"Recall: \",recall_score(y_true, y_pred, average=\"macro\"))\n",
    "print(\"F1: \",f1_score(y_true, y_pred,  average=\"macro\"))\n",
    "print(\"Accuracy: \",accuracy_score(y_true, y_pred))"
   ]
  },
  {
   "cell_type": "code",
   "execution_count": 62,
   "id": "9d406ccc",
   "metadata": {},
   "outputs": [
    {
     "data": {
      "text/plain": [
       "0.8140490064421018"
      ]
     },
     "execution_count": 62,
     "metadata": {},
     "output_type": "execute_result"
    }
   ],
   "source": [
    "#### ROC-AUC\n",
    "\n",
    "from sklearn.preprocessing import OneHotEncoder\n",
    "\n",
    "enc = OneHotEncoder(handle_unknown='ignore')\n",
    "y_pred_roc = enc.fit_transform(np.array(y_pred).reshape(-1,1))\n",
    "Y_pred = y_pred_roc.toarray()\n",
    "\n",
    "y_true_r = enc.fit_transform(np.array(y_true).reshape(-1,1))\n",
    "y_true_roc = y_true_r.toarray()\n",
    "\n",
    "from sklearn.metrics import roc_auc_score\n",
    "roc_auc_score(y_true_roc,Y_pred, multi_class='ovr')"
   ]
  },
  {
   "cell_type": "markdown",
   "id": "cdd3b555",
   "metadata": {},
   "source": [
    "### Pengujian random 15"
   ]
  },
  {
   "cell_type": "code",
   "execution_count": 71,
   "id": "57c8ed8a",
   "metadata": {},
   "outputs": [
    {
     "name": "stdout",
     "output_type": "stream",
     "text": [
      "[[1748  128   51]\n",
      " [ 131 1224   19]\n",
      " [  41   18   39]]\n",
      "              precision    recall  f1-score   support\n",
      "\n",
      "        -1.0       0.91      0.91      0.91      1927\n",
      "         0.0       0.89      0.89      0.89      1374\n",
      "         1.0       0.36      0.40      0.38        98\n",
      "\n",
      "    accuracy                           0.89      3399\n",
      "   macro avg       0.72      0.73      0.73      3399\n",
      "weighted avg       0.89      0.89      0.89      3399\n",
      "\n",
      "Precision:  0.720548496246196\n",
      "Recall:  0.7319661248744982\n",
      "F1:  0.7258999822900893\n",
      "Accuracy:  0.8858487790526626\n"
     ]
    }
   ],
   "source": [
    "#example training\n",
    "from sklearn.metrics import classification_report, confusion_matrix, accuracy_score, precision_score, recall_score, f1_score\n",
    "#[None, 'micro', 'macro', 'weighted'].\n",
    "print(confusion_matrix(y_true,y_pred))\n",
    "print(classification_report(y_true,y_pred))\n",
    "print(\"Precision: \",precision_score(y_true, y_pred, average=\"macro\"))\n",
    "print(\"Recall: \",recall_score(y_true, y_pred, average=\"macro\"))\n",
    "print(\"F1: \",f1_score(y_true, y_pred,  average=\"macro\"))\n",
    "print(\"Accuracy: \",accuracy_score(y_true, y_pred))"
   ]
  },
  {
   "cell_type": "code",
   "execution_count": 72,
   "id": "dd666594",
   "metadata": {},
   "outputs": [
    {
     "data": {
      "text/plain": [
       "0.8309576813100956"
      ]
     },
     "execution_count": 72,
     "metadata": {},
     "output_type": "execute_result"
    }
   ],
   "source": [
    "#### ROC-AUC\n",
    "\n",
    "from sklearn.preprocessing import OneHotEncoder\n",
    "\n",
    "enc = OneHotEncoder(handle_unknown='ignore')\n",
    "y_pred_roc = enc.fit_transform(np.array(y_pred).reshape(-1,1))\n",
    "Y_pred = y_pred_roc.toarray()\n",
    "\n",
    "y_true_r = enc.fit_transform(np.array(y_true).reshape(-1,1))\n",
    "y_true_roc = y_true_r.toarray()\n",
    "\n",
    "from sklearn.metrics import roc_auc_score\n",
    "roc_auc_score(y_true_roc,Y_pred, multi_class='ovr')"
   ]
  },
  {
   "cell_type": "markdown",
   "id": "590a6079",
   "metadata": {},
   "source": [
    "### Pengujian random 25"
   ]
  },
  {
   "cell_type": "code",
   "execution_count": 81,
   "id": "d58fef96",
   "metadata": {},
   "outputs": [
    {
     "name": "stdout",
     "output_type": "stream",
     "text": [
      "[[1767  114   48]\n",
      " [ 102 1260   13]\n",
      " [  47   12   36]]\n",
      "              precision    recall  f1-score   support\n",
      "\n",
      "        -1.0       0.92      0.92      0.92      1929\n",
      "         0.0       0.91      0.92      0.91      1375\n",
      "         1.0       0.37      0.38      0.37        95\n",
      "\n",
      "    accuracy                           0.90      3399\n",
      "   macro avg       0.73      0.74      0.74      3399\n",
      "weighted avg       0.90      0.90      0.90      3399\n",
      "\n",
      "Precision:  0.7341529167229187\n",
      "Recall:  0.7371098891013763\n",
      "F1:  0.7356095066477204\n",
      "Accuracy:  0.9011473962930273\n"
     ]
    }
   ],
   "source": [
    "#example training\n",
    "from sklearn.metrics import classification_report, confusion_matrix, accuracy_score, precision_score, recall_score, f1_score\n",
    "#[None, 'micro', 'macro', 'weighted'].\n",
    "print(confusion_matrix(y_true,y_pred))\n",
    "print(classification_report(y_true,y_pred))\n",
    "print(\"Precision: \",precision_score(y_true, y_pred, average=\"macro\"))\n",
    "print(\"Recall: \",recall_score(y_true, y_pred, average=\"macro\"))\n",
    "print(\"F1: \",f1_score(y_true, y_pred,  average=\"macro\"))\n",
    "print(\"Accuracy: \",accuracy_score(y_true, y_pred))"
   ]
  },
  {
   "cell_type": "code",
   "execution_count": 82,
   "id": "19baae3b",
   "metadata": {},
   "outputs": [
    {
     "data": {
      "text/plain": [
       "0.8382089481543181"
      ]
     },
     "execution_count": 82,
     "metadata": {},
     "output_type": "execute_result"
    }
   ],
   "source": [
    "#### ROC-AUC\n",
    "\n",
    "from sklearn.preprocessing import OneHotEncoder\n",
    "\n",
    "enc = OneHotEncoder(handle_unknown='ignore')\n",
    "y_pred_roc = enc.fit_transform(np.array(y_pred).reshape(-1,1))\n",
    "Y_pred = y_pred_roc.toarray()\n",
    "\n",
    "y_true_r = enc.fit_transform(np.array(y_true).reshape(-1,1))\n",
    "y_true_roc = y_true_r.toarray()\n",
    "\n",
    "from sklearn.metrics import roc_auc_score\n",
    "roc_auc_score(y_true_roc,Y_pred, multi_class='ovr')"
   ]
  },
  {
   "cell_type": "markdown",
   "id": "2c62d910",
   "metadata": {},
   "source": [
    "### Pengujian random 35"
   ]
  },
  {
   "cell_type": "code",
   "execution_count": 38,
   "id": "810ef986",
   "metadata": {},
   "outputs": [
    {
     "name": "stdout",
     "output_type": "stream",
     "text": [
      "[[1750  143   56]\n",
      " [ 123 1223   11]\n",
      " [  47   10   36]]\n",
      "              precision    recall  f1-score   support\n",
      "\n",
      "        -1.0       0.91      0.90      0.90      1949\n",
      "         0.0       0.89      0.90      0.89      1357\n",
      "         1.0       0.35      0.39      0.37        93\n",
      "\n",
      "    accuracy                           0.89      3399\n",
      "   macro avg       0.72      0.73      0.72      3399\n",
      "weighted avg       0.89      0.89      0.89      3399\n",
      "\n",
      "Precision:  0.7165936786583377\n",
      "Recall:  0.728748631582847\n",
      "F1:  0.7223202169386426\n",
      "Accuracy:  0.8852603706972639\n"
     ]
    }
   ],
   "source": [
    "#example training\n",
    "from sklearn.metrics import classification_report, confusion_matrix, accuracy_score, precision_score, recall_score, f1_score\n",
    "#[None, 'micro', 'macro', 'weighted'].\n",
    "print(confusion_matrix(y_true,y_pred))\n",
    "print(classification_report(y_true,y_pred))\n",
    "print(\"Precision: \",precision_score(y_true, y_pred, average=\"macro\"))\n",
    "print(\"Recall: \",recall_score(y_true, y_pred, average=\"macro\"))\n",
    "print(\"F1: \",f1_score(y_true, y_pred,  average=\"macro\"))\n",
    "print(\"Accuracy: \",accuracy_score(y_true, y_pred))"
   ]
  },
  {
   "cell_type": "code",
   "execution_count": 40,
   "id": "8f59019f",
   "metadata": {},
   "outputs": [
    {
     "data": {
      "text/plain": [
       "0.8289686316891304"
      ]
     },
     "execution_count": 40,
     "metadata": {},
     "output_type": "execute_result"
    }
   ],
   "source": [
    "#### ROC-AUC\n",
    "\n",
    "from sklearn.preprocessing import OneHotEncoder\n",
    "\n",
    "enc = OneHotEncoder(handle_unknown='ignore')\n",
    "y_pred_roc = enc.fit_transform(np.array(y_pred).reshape(-1,1))\n",
    "Y_pred = y_pred_roc.toarray()\n",
    "\n",
    "y_true_r = enc.fit_transform(np.array(y_true).reshape(-1,1))\n",
    "y_true_roc = y_true_r.toarray()\n",
    "\n",
    "from sklearn.metrics import roc_auc_score\n",
    "roc_auc_score(y_true_roc,Y_pred, multi_class='ovr')"
   ]
  },
  {
   "cell_type": "markdown",
   "id": "869736c7",
   "metadata": {},
   "source": [
    "### random 45"
   ]
  },
  {
   "cell_type": "code",
   "execution_count": 20,
   "id": "6be19ff3",
   "metadata": {},
   "outputs": [
    {
     "name": "stdout",
     "output_type": "stream",
     "text": [
      "[[1747  142   53]\n",
      " [ 134 1206   14]\n",
      " [  45   18   40]]\n",
      "              precision    recall  f1-score   support\n",
      "\n",
      "        -1.0       0.91      0.90      0.90      1942\n",
      "         0.0       0.88      0.89      0.89      1354\n",
      "         1.0       0.37      0.39      0.38       103\n",
      "\n",
      "    accuracy                           0.88      3399\n",
      "   macro avg       0.72      0.73      0.72      3399\n",
      "weighted avg       0.88      0.88      0.88      3399\n",
      "\n",
      "Precision:  0.721254245036076\n",
      "Recall:  0.7262106024690448\n",
      "F1:  0.7236754301858627\n",
      "Accuracy:  0.8805531038540747\n"
     ]
    }
   ],
   "source": [
    "#example training\n",
    "from sklearn.metrics import classification_report, confusion_matrix, accuracy_score, precision_score, recall_score, f1_score\n",
    "#[None, 'micro', 'macro', 'weighted'].\n",
    "print(confusion_matrix(y_true,y_pred))\n",
    "print(classification_report(y_true,y_pred))\n",
    "print(\"Precision: \",precision_score(y_true, y_pred, average=\"macro\"))\n",
    "print(\"Recall: \",recall_score(y_true, y_pred, average=\"macro\"))\n",
    "print(\"F1: \",f1_score(y_true, y_pred,  average=\"macro\"))\n",
    "print(\"Accuracy: \",accuracy_score(y_true, y_pred))"
   ]
  },
  {
   "cell_type": "markdown",
   "id": "2173ce90",
   "metadata": {},
   "source": [
    "### GaussianNB"
   ]
  },
  {
   "cell_type": "code",
   "execution_count": 30,
   "id": "68c65907",
   "metadata": {},
   "outputs": [],
   "source": [
    "from sklearn.naive_bayes import GaussianNB\n",
    "\n",
    "modelNB = GaussianNB()\n",
    "modelNB.fit(x_train,y_train)\n",
    "NB_predict = modelNB.predict(x_test)"
   ]
  },
  {
   "cell_type": "markdown",
   "id": "856e33ca",
   "metadata": {},
   "source": [
    "### Random 5"
   ]
  },
  {
   "cell_type": "code",
   "execution_count": 31,
   "id": "ad01c6e9",
   "metadata": {},
   "outputs": [
    {
     "name": "stdout",
     "output_type": "stream",
     "text": [
      "[[655 620 654]\n",
      " [499 424 452]\n",
      " [ 35  27  33]]\n",
      "              precision    recall  f1-score   support\n",
      "\n",
      "        -1.0       0.55      0.34      0.42      1929\n",
      "         0.0       0.40      0.31      0.35      1375\n",
      "         1.0       0.03      0.35      0.05        95\n",
      "\n",
      "    accuracy                           0.33      3399\n",
      "   macro avg       0.33      0.33      0.27      3399\n",
      "weighted avg       0.47      0.33      0.38      3399\n",
      "\n",
      "Precision:  0.325249189396764\n",
      "Recall:  0.3317620768543254\n",
      "F1:  0.2734380633301411\n",
      "Accuracy:  0.32715504560164754\n"
     ]
    }
   ],
   "source": [
    "#example training\n",
    "from sklearn.metrics import classification_report, confusion_matrix, accuracy_score, precision_score, recall_score, f1_score\n",
    "#[None, 'micro', 'macro', 'weighted'].\n",
    "print(confusion_matrix(y_true,NB_predict))\n",
    "print(classification_report(y_true,NB_predict))\n",
    "print(\"Precision: \",precision_score(y_true,NB_predict, average=\"macro\"))\n",
    "print(\"Recall: \",recall_score(y_true, NB_predict, average=\"macro\"))\n",
    "print(\"F1: \",f1_score(y_true,NB_predict,  average=\"macro\"))\n",
    "print(\"Accuracy: \",accuracy_score(y_true, NB_predict))"
   ]
  },
  {
   "cell_type": "markdown",
   "id": "76478487",
   "metadata": {},
   "source": [
    "### Random 25"
   ]
  },
  {
   "cell_type": "code",
   "execution_count": 37,
   "id": "c3536251",
   "metadata": {},
   "outputs": [
    {
     "name": "stdout",
     "output_type": "stream",
     "text": [
      "[[655 620 654]\n",
      " [499 424 452]\n",
      " [ 35  27  33]]\n",
      "              precision    recall  f1-score   support\n",
      "\n",
      "        -1.0       0.55      0.34      0.42      1929\n",
      "         0.0       0.40      0.31      0.35      1375\n",
      "         1.0       0.03      0.35      0.05        95\n",
      "\n",
      "    accuracy                           0.33      3399\n",
      "   macro avg       0.33      0.33      0.27      3399\n",
      "weighted avg       0.47      0.33      0.38      3399\n",
      "\n",
      "Precision:  0.325249189396764\n",
      "Recall:  0.3317620768543254\n",
      "F1:  0.2734380633301411\n",
      "Accuracy:  0.32715504560164754\n"
     ]
    }
   ],
   "source": [
    "#example training\n",
    "from sklearn.metrics import classification_report, confusion_matrix, accuracy_score, precision_score, recall_score, f1_score\n",
    "#[None, 'micro', 'macro', 'weighted'].\n",
    "print(confusion_matrix(y_true,NB_predict))\n",
    "print(classification_report(y_true,NB_predict))\n",
    "print(\"Precision: \",precision_score(y_true,NB_predict, average=\"macro\"))\n",
    "print(\"Recall: \",recall_score(y_true, NB_predict, average=\"macro\"))\n",
    "print(\"F1: \",f1_score(y_true,NB_predict,  average=\"macro\"))\n",
    "print(\"Accuracy: \",accuracy_score(y_true, NB_predict))"
   ]
  },
  {
   "cell_type": "code",
   "execution_count": null,
   "id": "51e379f7",
   "metadata": {},
   "outputs": [],
   "source": []
  }
 ],
 "metadata": {
  "kernelspec": {
   "display_name": "Python 3 (ipykernel)",
   "language": "python",
   "name": "python3"
  },
  "language_info": {
   "codemirror_mode": {
    "name": "ipython",
    "version": 3
   },
   "file_extension": ".py",
   "mimetype": "text/x-python",
   "name": "python",
   "nbconvert_exporter": "python",
   "pygments_lexer": "ipython3",
   "version": "3.9.7"
  }
 },
 "nbformat": 4,
 "nbformat_minor": 5
}
