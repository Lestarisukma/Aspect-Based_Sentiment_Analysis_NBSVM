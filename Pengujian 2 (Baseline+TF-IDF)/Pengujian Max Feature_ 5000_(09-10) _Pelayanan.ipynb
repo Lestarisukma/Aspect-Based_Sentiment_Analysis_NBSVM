{
 "cells": [
  {
   "cell_type": "code",
   "execution_count": 1,
   "id": "7db78a1d",
   "metadata": {},
   "outputs": [],
   "source": [
    "import pandas as pd\n",
    "import numpy as np\n",
    "import ast\n",
    "import re\n",
    "import sklearn\n",
    "import six\n",
    "from abc import ABCMeta\n",
    "from sklearn.base import BaseEstimator, ClassifierMixin\n",
    "from sklearn.utils.extmath import safe_sparse_dot\n",
    "from scipy import sparse\n",
    "import warnings\n",
    "warnings.filterwarnings('ignore')\n",
    "import nltk\n",
    "import six\n",
    "import re\n",
    "import gensim\n",
    "\n",
    "from sklearn.model_selection import train_test_split\n",
    "from sklearn.feature_extraction.text import TfidfVectorizer\n",
    "from sklearn.preprocessing import LabelEncoder\n",
    "from sklearn.svm import LinearSVC\n",
    "from abc import ABCMeta\n",
    "from sklearn.pipeline import Pipeline\n",
    "from sklearn.utils import check_X_y, check_array\n",
    "from scipy import sparse\n",
    "from nltk.stem import PorterStemmer,WordNetLemmatizer\n",
    "from scipy.sparse import issparse\n",
    "from sklearn.base import BaseEstimator, ClassifierMixin\n",
    "from sklearn.utils.extmath import safe_sparse_dot\n",
    "from sklearn.preprocessing import normalize, binarize, LabelBinarizer\n",
    "from sklearn.feature_extraction.text import CountVectorizer,TfidfVectorizer,TfidfTransformer\n",
    "from sklearn.utils import resample\n",
    "from sklearn.metrics import accuracy_score,f1_score"
   ]
  },
  {
   "cell_type": "code",
   "execution_count": 2,
   "id": "e372aa64",
   "metadata": {},
   "outputs": [
    {
     "data": {
      "text/html": [
       "<div>\n",
       "<style scoped>\n",
       "    .dataframe tbody tr th:only-of-type {\n",
       "        vertical-align: middle;\n",
       "    }\n",
       "\n",
       "    .dataframe tbody tr th {\n",
       "        vertical-align: top;\n",
       "    }\n",
       "\n",
       "    .dataframe thead th {\n",
       "        text-align: right;\n",
       "    }\n",
       "</style>\n",
       "<table border=\"1\" class=\"dataframe\">\n",
       "  <thead>\n",
       "    <tr style=\"text-align: right;\">\n",
       "      <th></th>\n",
       "      <th>Username</th>\n",
       "      <th>Text</th>\n",
       "      <th>Pelayanan</th>\n",
       "      <th>text_result</th>\n",
       "    </tr>\n",
       "  </thead>\n",
       "  <tbody>\n",
       "    <tr>\n",
       "      <th>0</th>\n",
       "      <td>satriafakhri_id</td>\n",
       "      <td>@yamasaiyaa untuk masalah hp lapor aja ke yg b...</td>\n",
       "      <td>0.0</td>\n",
       "      <td>['handphone', 'lapor', 'wajib', 'bantu', 'laca...</td>\n",
       "    </tr>\n",
       "    <tr>\n",
       "      <th>1</th>\n",
       "      <td>Piyuuuuu21_</td>\n",
       "      <td>@bertanyarl Gatau, akhir akhir ini Telkomsel l...</td>\n",
       "      <td>0.0</td>\n",
       "      <td>['tidak tahu', 'telkomsel', 'lambat', 'kuota',...</td>\n",
       "    </tr>\n",
       "    <tr>\n",
       "      <th>2</th>\n",
       "      <td>hypersex_pr</td>\n",
       "      <td>Ada kendala kah dengan sinyal telkomsel</td>\n",
       "      <td>0.0</td>\n",
       "      <td>['kendala', 'sinyal', 'telkomsel']</td>\n",
       "    </tr>\n",
       "    <tr>\n",
       "      <th>3</th>\n",
       "      <td>snwyscrtimh</td>\n",
       "      <td>@squidwardpemala @Cutimut3 @reihanahsan @sonde...</td>\n",
       "      <td>-1.0</td>\n",
       "      <td>['tidak bisa', 'nomor', 'mati', 'dihidupakan',...</td>\n",
       "    </tr>\n",
       "    <tr>\n",
       "      <th>4</th>\n",
       "      <td>aninadhany</td>\n",
       "      <td>@Telkomsel min, dari kmrn aplikasi my telkomse...</td>\n",
       "      <td>-1.0</td>\n",
       "      <td>['admin', 'kemarin', 'aplikasi', 'punya', 'tel...</td>\n",
       "    </tr>\n",
       "    <tr>\n",
       "      <th>...</th>\n",
       "      <td>...</td>\n",
       "      <td>...</td>\n",
       "      <td>...</td>\n",
       "      <td>...</td>\n",
       "    </tr>\n",
       "    <tr>\n",
       "      <th>16986</th>\n",
       "      <td>Syaeeef</td>\n",
       "      <td>Sinyal mines, #sinyal #telkomsel #byu.id tolon...</td>\n",
       "      <td>0.0</td>\n",
       "      <td>['sinyal', 'minus', 'tolong', 'baik', 'problem...</td>\n",
       "    </tr>\n",
       "    <tr>\n",
       "      <th>16987</th>\n",
       "      <td>abdr40</td>\n",
       "      <td>@Telkomsel ini My Telkomsel gangguan sampe kap...</td>\n",
       "      <td>0.0</td>\n",
       "      <td>['punya', 'telkomsel', 'ganggu', 'aduh', 'desa...</td>\n",
       "    </tr>\n",
       "    <tr>\n",
       "      <th>16988</th>\n",
       "      <td>thepinediary</td>\n",
       "      <td>yaallah nambah2i gawean waeee esuk2 kudu neng ...</td>\n",
       "      <td>0.0</td>\n",
       "      <td>['allah', 'tambah', 'kerja', 'esuk', 'neng', '...</td>\n",
       "    </tr>\n",
       "    <tr>\n",
       "      <th>16989</th>\n",
       "      <td>yudaamaraa</td>\n",
       "      <td>@Telkomsel min sinyal telkomsel di rumah saya ...</td>\n",
       "      <td>0.0</td>\n",
       "      <td>['admin', 'sinyal', 'telkomsel', 'rumah', 'dae...</td>\n",
       "    </tr>\n",
       "    <tr>\n",
       "      <th>16990</th>\n",
       "      <td>ytojerxhi</td>\n",
       "      <td>@convomf tante nya sender pke nomor apa? kl Te...</td>\n",
       "      <td>0.0</td>\n",
       "      <td>['tante', 'kirim', 'pakai', 'nomor', 'telkomse...</td>\n",
       "    </tr>\n",
       "  </tbody>\n",
       "</table>\n",
       "<p>16991 rows × 4 columns</p>\n",
       "</div>"
      ],
      "text/plain": [
       "              Username                                               Text  \\\n",
       "0      satriafakhri_id  @yamasaiyaa untuk masalah hp lapor aja ke yg b...   \n",
       "1          Piyuuuuu21_  @bertanyarl Gatau, akhir akhir ini Telkomsel l...   \n",
       "2          hypersex_pr            Ada kendala kah dengan sinyal telkomsel   \n",
       "3          snwyscrtimh  @squidwardpemala @Cutimut3 @reihanahsan @sonde...   \n",
       "4           aninadhany  @Telkomsel min, dari kmrn aplikasi my telkomse...   \n",
       "...                ...                                                ...   \n",
       "16986          Syaeeef  Sinyal mines, #sinyal #telkomsel #byu.id tolon...   \n",
       "16987           abdr40  @Telkomsel ini My Telkomsel gangguan sampe kap...   \n",
       "16988     thepinediary  yaallah nambah2i gawean waeee esuk2 kudu neng ...   \n",
       "16989       yudaamaraa  @Telkomsel min sinyal telkomsel di rumah saya ...   \n",
       "16990        ytojerxhi  @convomf tante nya sender pke nomor apa? kl Te...   \n",
       "\n",
       "       Pelayanan                                        text_result  \n",
       "0            0.0  ['handphone', 'lapor', 'wajib', 'bantu', 'laca...  \n",
       "1            0.0  ['tidak tahu', 'telkomsel', 'lambat', 'kuota',...  \n",
       "2            0.0                 ['kendala', 'sinyal', 'telkomsel']  \n",
       "3           -1.0  ['tidak bisa', 'nomor', 'mati', 'dihidupakan',...  \n",
       "4           -1.0  ['admin', 'kemarin', 'aplikasi', 'punya', 'tel...  \n",
       "...          ...                                                ...  \n",
       "16986        0.0  ['sinyal', 'minus', 'tolong', 'baik', 'problem...  \n",
       "16987        0.0  ['punya', 'telkomsel', 'ganggu', 'aduh', 'desa...  \n",
       "16988        0.0  ['allah', 'tambah', 'kerja', 'esuk', 'neng', '...  \n",
       "16989        0.0  ['admin', 'sinyal', 'telkomsel', 'rumah', 'dae...  \n",
       "16990        0.0  ['tante', 'kirim', 'pakai', 'nomor', 'telkomse...  \n",
       "\n",
       "[16991 rows x 4 columns]"
      ]
     },
     "execution_count": 2,
     "metadata": {},
     "output_type": "execute_result"
    }
   ],
   "source": [
    "tsel = pd.read_csv(r'Prepro_Pelayanan.csv', usecols=['Username','Text','Pelayanan','text_result'])\n",
    "tsel"
   ]
  },
  {
   "cell_type": "code",
   "execution_count": 3,
   "id": "53507a7d",
   "metadata": {},
   "outputs": [],
   "source": [
    "tsel['text_result'] = tsel['text_result'].apply(str)"
   ]
  },
  {
   "cell_type": "code",
   "execution_count": 4,
   "id": "905d8cbc",
   "metadata": {},
   "outputs": [
    {
     "data": {
      "text/html": [
       "<div>\n",
       "<style scoped>\n",
       "    .dataframe tbody tr th:only-of-type {\n",
       "        vertical-align: middle;\n",
       "    }\n",
       "\n",
       "    .dataframe tbody tr th {\n",
       "        vertical-align: top;\n",
       "    }\n",
       "\n",
       "    .dataframe thead th {\n",
       "        text-align: right;\n",
       "    }\n",
       "</style>\n",
       "<table border=\"1\" class=\"dataframe\">\n",
       "  <thead>\n",
       "    <tr style=\"text-align: right;\">\n",
       "      <th></th>\n",
       "      <th>Username</th>\n",
       "      <th>Text</th>\n",
       "      <th>Pelayanan</th>\n",
       "      <th>text_result</th>\n",
       "    </tr>\n",
       "  </thead>\n",
       "  <tbody>\n",
       "    <tr>\n",
       "      <th>0</th>\n",
       "      <td>satriafakhri_id</td>\n",
       "      <td>@yamasaiyaa untuk masalah hp lapor aja ke yg b...</td>\n",
       "      <td>0.0</td>\n",
       "      <td>handphone lapor wajib bantu lacak imei perihal...</td>\n",
       "    </tr>\n",
       "    <tr>\n",
       "      <th>1</th>\n",
       "      <td>Piyuuuuu21_</td>\n",
       "      <td>@bertanyarl Gatau, akhir akhir ini Telkomsel l...</td>\n",
       "      <td>0.0</td>\n",
       "      <td>tidak tahu telkomsel lambat kuota promo murah ...</td>\n",
       "    </tr>\n",
       "    <tr>\n",
       "      <th>2</th>\n",
       "      <td>hypersex_pr</td>\n",
       "      <td>Ada kendala kah dengan sinyal telkomsel</td>\n",
       "      <td>0.0</td>\n",
       "      <td>kendala sinyal telkomsel</td>\n",
       "    </tr>\n",
       "    <tr>\n",
       "      <th>3</th>\n",
       "      <td>snwyscrtimh</td>\n",
       "      <td>@squidwardpemala @Cutimut3 @reihanahsan @sonde...</td>\n",
       "      <td>-1.0</td>\n",
       "      <td>tidak bisa nomor mati dihidupakan grapari nomo...</td>\n",
       "    </tr>\n",
       "    <tr>\n",
       "      <th>4</th>\n",
       "      <td>aninadhany</td>\n",
       "      <td>@Telkomsel min, dari kmrn aplikasi my telkomse...</td>\n",
       "      <td>-1.0</td>\n",
       "      <td>admin kemarin aplikasi punya telkomsel ganggu ...</td>\n",
       "    </tr>\n",
       "    <tr>\n",
       "      <th>...</th>\n",
       "      <td>...</td>\n",
       "      <td>...</td>\n",
       "      <td>...</td>\n",
       "      <td>...</td>\n",
       "    </tr>\n",
       "    <tr>\n",
       "      <th>16986</th>\n",
       "      <td>Syaeeef</td>\n",
       "      <td>Sinyal mines, #sinyal #telkomsel #byu.id tolon...</td>\n",
       "      <td>0.0</td>\n",
       "      <td>sinyal minus tolong baik problem location cama...</td>\n",
       "    </tr>\n",
       "    <tr>\n",
       "      <th>16987</th>\n",
       "      <td>abdr40</td>\n",
       "      <td>@Telkomsel ini My Telkomsel gangguan sampe kap...</td>\n",
       "      <td>0.0</td>\n",
       "      <td>punya telkomsel ganggu aduh desak pakai</td>\n",
       "    </tr>\n",
       "    <tr>\n",
       "      <th>16988</th>\n",
       "      <td>thepinediary</td>\n",
       "      <td>yaallah nambah2i gawean waeee esuk2 kudu neng ...</td>\n",
       "      <td>0.0</td>\n",
       "      <td>allah tambah kerja esuk neng grapari</td>\n",
       "    </tr>\n",
       "    <tr>\n",
       "      <th>16989</th>\n",
       "      <td>yudaamaraa</td>\n",
       "      <td>@Telkomsel min sinyal telkomsel di rumah saya ...</td>\n",
       "      <td>0.0</td>\n",
       "      <td>admin sinyal telkomsel rumah daerah rawabunga ...</td>\n",
       "    </tr>\n",
       "    <tr>\n",
       "      <th>16990</th>\n",
       "      <td>ytojerxhi</td>\n",
       "      <td>@convomf tante nya sender pke nomor apa? kl Te...</td>\n",
       "      <td>0.0</td>\n",
       "      <td>tante kirim pakai nomor telkomsel langsung gra...</td>\n",
       "    </tr>\n",
       "  </tbody>\n",
       "</table>\n",
       "<p>16991 rows × 4 columns</p>\n",
       "</div>"
      ],
      "text/plain": [
       "              Username                                               Text  \\\n",
       "0      satriafakhri_id  @yamasaiyaa untuk masalah hp lapor aja ke yg b...   \n",
       "1          Piyuuuuu21_  @bertanyarl Gatau, akhir akhir ini Telkomsel l...   \n",
       "2          hypersex_pr            Ada kendala kah dengan sinyal telkomsel   \n",
       "3          snwyscrtimh  @squidwardpemala @Cutimut3 @reihanahsan @sonde...   \n",
       "4           aninadhany  @Telkomsel min, dari kmrn aplikasi my telkomse...   \n",
       "...                ...                                                ...   \n",
       "16986          Syaeeef  Sinyal mines, #sinyal #telkomsel #byu.id tolon...   \n",
       "16987           abdr40  @Telkomsel ini My Telkomsel gangguan sampe kap...   \n",
       "16988     thepinediary  yaallah nambah2i gawean waeee esuk2 kudu neng ...   \n",
       "16989       yudaamaraa  @Telkomsel min sinyal telkomsel di rumah saya ...   \n",
       "16990        ytojerxhi  @convomf tante nya sender pke nomor apa? kl Te...   \n",
       "\n",
       "       Pelayanan                                        text_result  \n",
       "0            0.0  handphone lapor wajib bantu lacak imei perihal...  \n",
       "1            0.0  tidak tahu telkomsel lambat kuota promo murah ...  \n",
       "2            0.0                           kendala sinyal telkomsel  \n",
       "3           -1.0  tidak bisa nomor mati dihidupakan grapari nomo...  \n",
       "4           -1.0  admin kemarin aplikasi punya telkomsel ganggu ...  \n",
       "...          ...                                                ...  \n",
       "16986        0.0  sinyal minus tolong baik problem location cama...  \n",
       "16987        0.0            punya telkomsel ganggu aduh desak pakai  \n",
       "16988        0.0               allah tambah kerja esuk neng grapari  \n",
       "16989        0.0  admin sinyal telkomsel rumah daerah rawabunga ...  \n",
       "16990        0.0  tante kirim pakai nomor telkomsel langsung gra...  \n",
       "\n",
       "[16991 rows x 4 columns]"
      ]
     },
     "execution_count": 4,
     "metadata": {},
     "output_type": "execute_result"
    }
   ],
   "source": [
    "import ast\n",
    "\n",
    "def join_text_list(text):\n",
    "    texts = ast.literal_eval(text)\n",
    "    return ' '.join([text for text in texts])\n",
    "\n",
    "tsel['text_result'] = tsel['text_result'].apply(join_text_list)\n",
    "tsel"
   ]
  },
  {
   "cell_type": "code",
   "execution_count": 23,
   "id": "b4924647",
   "metadata": {},
   "outputs": [],
   "source": [
    "from sklearn.feature_extraction.text import CountVectorizer\n",
    "matrix = CountVectorizer(max_features=5000)\n",
    "vectors = matrix.fit_transform(tsel['text_result']).toarray()"
   ]
  },
  {
   "cell_type": "code",
   "execution_count": 24,
   "id": "e2e8739f",
   "metadata": {},
   "outputs": [],
   "source": [
    "X = vectors\n",
    "y = tsel['Pelayanan']"
   ]
  },
  {
   "cell_type": "code",
   "execution_count": 40,
   "id": "5338de06",
   "metadata": {},
   "outputs": [],
   "source": [
    "from sklearn.model_selection import train_test_split\n",
    "x_train,x_test,y_train,y_test = train_test_split(X,y, test_size=0.1, random_state=45)"
   ]
  },
  {
   "cell_type": "markdown",
   "id": "6173d7ae",
   "metadata": {},
   "source": [
    "## Klasifikasi NBSVM"
   ]
  },
  {
   "cell_type": "code",
   "execution_count": 41,
   "id": "4db3a0d7",
   "metadata": {},
   "outputs": [],
   "source": [
    "class NBSVM(six.with_metaclass(ABCMeta, BaseEstimator, ClassifierMixin)):\n",
    "    def __init__(self, alpha=1.0, C=1.0, max_iter=10000):\n",
    "        self.alpha = alpha\n",
    "        self.max_iter = max_iter\n",
    "        self.C = C\n",
    "        self.svm_ = [] # fuggly\n",
    "\n",
    "    def fit(self, X, y):\n",
    "        X, y = check_X_y(X, y, 'csr')\n",
    "        _, n_features = X.shape\n",
    "\n",
    "        labelbin = LabelBinarizer()\n",
    "        Y = labelbin.fit_transform(y)\n",
    "        self.classes_ = labelbin.classes_\n",
    "        if Y.shape[1] == 1:\n",
    "            Y = np.concatenate((1 - Y, Y), axis=1)\n",
    "\n",
    "        # LabelBinarizer().fit_transform() returns arrays with dtype=np.int64.\n",
    "        # so we don't have to cast X to floating point\n",
    "        Y = Y.astype(np.float64)\n",
    "\n",
    "        # Count raw events from data\n",
    "        n_effective_classes = Y.shape[1]\n",
    "        self.class_count_ = np.zeros(n_effective_classes, dtype=np.float64)\n",
    "        self.ratios_ = np.full((n_effective_classes, n_features), self.alpha,\n",
    "                                 dtype=np.float64)\n",
    "        self._compute_ratios(X, Y)\n",
    "\n",
    "        # flugglyness\n",
    "        for i in range(n_effective_classes):\n",
    "            X_i = X.multiply(self.ratios_[i])\n",
    "            svm = LinearSVC(C=self.C, max_iter=self.max_iter)\n",
    "            Y_i = Y[:,i]\n",
    "            svm.fit(X_i, Y_i)\n",
    "            self.svm_.append(svm) \n",
    "\n",
    "        return self\n",
    "\n",
    "    def predict(self, X):\n",
    "        n_effective_classes = self.class_count_.shape[0]\n",
    "        n_examples = X.shape[0]\n",
    "\n",
    "        D = np.zeros((n_effective_classes, n_examples))\n",
    "\n",
    "        for i in range(n_effective_classes):\n",
    "            X_i = X.multiply(self.ratios_[i])\n",
    "            D[i] = self.svm_[i].decision_function(X_i)\n",
    "        \n",
    "        return self.classes_[np.argmax(D, axis=0)]\n",
    "        \n",
    "    def _compute_ratios(self, X, Y):\n",
    "        \"\"\"Count feature occurrences and compute ratios.\"\"\"\n",
    "        if np.any((X.data if issparse(X) else X) < 0):\n",
    "            raise ValueError(\"Input X must be non-negative\")\n",
    "\n",
    "        self.ratios_ += safe_sparse_dot(Y.T, X)  # ratio + feature_occurrance_c\n",
    "        normalize(self.ratios_, norm='l1', axis=1, copy=False)\n",
    "        row_calc = lambda r: np.log(np.divide(r, (1 - r)))\n",
    "        self.ratios_ = np.apply_along_axis(row_calc, axis=1, arr=self.ratios_)\n",
    "        check_array(self.ratios_)\n",
    "        self.ratios_ = sparse.csr_matrix(self.ratios_)"
   ]
  },
  {
   "cell_type": "code",
   "execution_count": 42,
   "id": "10b15bf7",
   "metadata": {},
   "outputs": [],
   "source": [
    "x_train_csr = sparse.csr_matrix(x_train)\n",
    "x_test_csr = sparse.csr_matrix(x_test)\n",
    "model = NBSVM()\n",
    "\n",
    "model.fit(x_train_csr,y_train)\n",
    "y_pred = model.predict(x_test_csr)\n",
    "y_true = y_test"
   ]
  },
  {
   "cell_type": "markdown",
   "id": "f7d04079",
   "metadata": {},
   "source": [
    "### random 5"
   ]
  },
  {
   "cell_type": "code",
   "execution_count": 11,
   "id": "6be19ff3",
   "metadata": {},
   "outputs": [
    {
     "name": "stdout",
     "output_type": "stream",
     "text": [
      "[[ 121  106   18]\n",
      " [  82 1186   43]\n",
      " [  15   66   63]]\n",
      "              precision    recall  f1-score   support\n",
      "\n",
      "        -1.0       0.56      0.49      0.52       245\n",
      "         0.0       0.87      0.90      0.89      1311\n",
      "         1.0       0.51      0.44      0.47       144\n",
      "\n",
      "    accuracy                           0.81      1700\n",
      "   macro avg       0.65      0.61      0.63      1700\n",
      "weighted avg       0.80      0.81      0.80      1700\n",
      "\n",
      "Precision:  0.6454845131274441\n",
      "Recall:  0.612010162569986\n",
      "F1:  0.6271832691348488\n",
      "Accuracy:  0.8058823529411765\n"
     ]
    }
   ],
   "source": [
    "#example training\n",
    "from sklearn.metrics import classification_report, confusion_matrix, accuracy_score, precision_score, recall_score, f1_score\n",
    "#[None, 'micro', 'macro', 'weighted'].\n",
    "print(confusion_matrix(y_true,y_pred))\n",
    "print(classification_report(y_true,y_pred))\n",
    "print(\"Precision: \",precision_score(y_true, y_pred, average=\"macro\"))\n",
    "print(\"Recall: \",recall_score(y_true, y_pred, average=\"macro\"))\n",
    "print(\"F1: \",f1_score(y_true, y_pred,  average=\"macro\"))\n",
    "print(\"Accuracy: \",accuracy_score(y_true, y_pred))"
   ]
  },
  {
   "cell_type": "code",
   "execution_count": 12,
   "id": "a2abe93a",
   "metadata": {},
   "outputs": [
    {
     "data": {
      "text/plain": [
       "0.7146668921961612"
      ]
     },
     "execution_count": 12,
     "metadata": {},
     "output_type": "execute_result"
    }
   ],
   "source": [
    "#### ROC-AUC\n",
    "\n",
    "from sklearn.preprocessing import OneHotEncoder\n",
    "\n",
    "enc = OneHotEncoder(handle_unknown='ignore')\n",
    "y_pred_roc = enc.fit_transform(np.array(y_pred).reshape(-1,1))\n",
    "Y_pred = y_pred_roc.toarray()\n",
    "\n",
    "y_true_r = enc.fit_transform(np.array(y_true).reshape(-1,1))\n",
    "y_true_roc = y_true_r.toarray()\n",
    "\n",
    "from sklearn.metrics import roc_auc_score\n",
    "roc_auc_score(y_true_roc,Y_pred, multi_class='ovr')"
   ]
  },
  {
   "cell_type": "markdown",
   "id": "594c347c",
   "metadata": {},
   "source": [
    "### random 15"
   ]
  },
  {
   "cell_type": "code",
   "execution_count": 16,
   "id": "ec75b3b9",
   "metadata": {},
   "outputs": [
    {
     "name": "stdout",
     "output_type": "stream",
     "text": [
      "[[ 121   97   18]\n",
      " [  91 1190   52]\n",
      " [  18   61   52]]\n",
      "              precision    recall  f1-score   support\n",
      "\n",
      "        -1.0       0.53      0.51      0.52       236\n",
      "         0.0       0.88      0.89      0.89      1333\n",
      "         1.0       0.43      0.40      0.41       131\n",
      "\n",
      "    accuracy                           0.80      1700\n",
      "   macro avg       0.61      0.60      0.61      1700\n",
      "weighted avg       0.80      0.80      0.80      1700\n",
      "\n",
      "Precision:  0.6117019274086263\n",
      "Recall:  0.6007938700291582\n",
      "F1:  0.6060363193089818\n",
      "Accuracy:  0.8017647058823529\n"
     ]
    }
   ],
   "source": [
    "#example training\n",
    "from sklearn.metrics import classification_report, confusion_matrix, accuracy_score, precision_score, recall_score, f1_score\n",
    "#[None, 'micro', 'macro', 'weighted'].\n",
    "print(confusion_matrix(y_true,y_pred))\n",
    "print(classification_report(y_true,y_pred))\n",
    "print(\"Precision: \",precision_score(y_true, y_pred, average=\"macro\"))\n",
    "print(\"Recall: \",recall_score(y_true, y_pred, average=\"macro\"))\n",
    "print(\"F1: \",f1_score(y_true, y_pred,  average=\"macro\"))\n",
    "print(\"Accuracy: \",accuracy_score(y_true, y_pred))"
   ]
  },
  {
   "cell_type": "code",
   "execution_count": 17,
   "id": "af991b4c",
   "metadata": {},
   "outputs": [
    {
     "data": {
      "text/plain": [
       "0.7087993238207022"
      ]
     },
     "execution_count": 17,
     "metadata": {},
     "output_type": "execute_result"
    }
   ],
   "source": [
    "#### ROC-AUC\n",
    "\n",
    "from sklearn.preprocessing import OneHotEncoder\n",
    "\n",
    "enc = OneHotEncoder(handle_unknown='ignore')\n",
    "y_pred_roc = enc.fit_transform(np.array(y_pred).reshape(-1,1))\n",
    "Y_pred = y_pred_roc.toarray()\n",
    "\n",
    "y_true_r = enc.fit_transform(np.array(y_true).reshape(-1,1))\n",
    "y_true_roc = y_true_r.toarray()\n",
    "\n",
    "from sklearn.metrics import roc_auc_score\n",
    "roc_auc_score(y_true_roc,Y_pred, multi_class='ovr')"
   ]
  },
  {
   "cell_type": "markdown",
   "id": "612ec2f2",
   "metadata": {},
   "source": [
    "### random 25"
   ]
  },
  {
   "cell_type": "code",
   "execution_count": 28,
   "id": "d58fef96",
   "metadata": {},
   "outputs": [
    {
     "name": "stdout",
     "output_type": "stream",
     "text": [
      "[[ 119   78   17]\n",
      " [  78 1246   47]\n",
      " [  17   55   43]]\n",
      "              precision    recall  f1-score   support\n",
      "\n",
      "        -1.0       0.56      0.56      0.56       214\n",
      "         0.0       0.90      0.91      0.91      1371\n",
      "         1.0       0.40      0.37      0.39       115\n",
      "\n",
      "    accuracy                           0.83      1700\n",
      "   macro avg       0.62      0.61      0.62      1700\n",
      "weighted avg       0.83      0.83      0.83      1700\n",
      "\n",
      "Precision:  0.6204990749086768\n",
      "Recall:  0.6129378281744695\n",
      "F1:  0.6165479906414486\n",
      "Accuracy:  0.8282352941176471\n"
     ]
    }
   ],
   "source": [
    "#example training\n",
    "from sklearn.metrics import classification_report, confusion_matrix, accuracy_score, precision_score, recall_score, f1_score\n",
    "#[None, 'micro', 'macro', 'weighted'].\n",
    "print(confusion_matrix(y_true,y_pred))\n",
    "print(classification_report(y_true,y_pred))\n",
    "print(\"Precision: \",precision_score(y_true, y_pred, average=\"macro\"))\n",
    "print(\"Recall: \",recall_score(y_true, y_pred, average=\"macro\"))\n",
    "print(\"F1: \",f1_score(y_true, y_pred,  average=\"macro\"))\n",
    "print(\"Accuracy: \",accuracy_score(y_true, y_pred))"
   ]
  },
  {
   "cell_type": "code",
   "execution_count": 29,
   "id": "de2865a5",
   "metadata": {},
   "outputs": [
    {
     "data": {
      "text/plain": [
       "0.7217082671699372"
      ]
     },
     "execution_count": 29,
     "metadata": {},
     "output_type": "execute_result"
    }
   ],
   "source": [
    "#### ROC-AUC\n",
    "\n",
    "from sklearn.preprocessing import OneHotEncoder\n",
    "\n",
    "enc = OneHotEncoder(handle_unknown='ignore')\n",
    "y_pred_roc = enc.fit_transform(np.array(y_pred).reshape(-1,1))\n",
    "Y_pred = y_pred_roc.toarray()\n",
    "\n",
    "y_true_r = enc.fit_transform(np.array(y_true).reshape(-1,1))\n",
    "y_true_roc = y_true_r.toarray()\n",
    "\n",
    "from sklearn.metrics import roc_auc_score\n",
    "roc_auc_score(y_true_roc,Y_pred, multi_class='ovr')"
   ]
  },
  {
   "cell_type": "markdown",
   "id": "ce6738cb",
   "metadata": {},
   "source": [
    "### random 35"
   ]
  },
  {
   "cell_type": "code",
   "execution_count": 38,
   "id": "ad01c6e9",
   "metadata": {},
   "outputs": [
    {
     "name": "stdout",
     "output_type": "stream",
     "text": [
      "[[ 130   73   17]\n",
      " [  64 1247   51]\n",
      " [  17   52   49]]\n",
      "              precision    recall  f1-score   support\n",
      "\n",
      "        -1.0       0.62      0.59      0.60       220\n",
      "         0.0       0.91      0.92      0.91      1362\n",
      "         1.0       0.42      0.42      0.42       118\n",
      "\n",
      "    accuracy                           0.84      1700\n",
      "   macro avg       0.65      0.64      0.64      1700\n",
      "weighted avg       0.84      0.84      0.84      1700\n",
      "\n",
      "Precision:  0.6479364303863772\n",
      "Recall:  0.6405762244259967\n",
      "F1:  0.6441620230031898\n",
      "Accuracy:  0.8388235294117647\n"
     ]
    }
   ],
   "source": [
    "#example training\n",
    "from sklearn.metrics import classification_report, confusion_matrix, accuracy_score, precision_score, recall_score, f1_score\n",
    "#[None, 'micro', 'macro', 'weighted'].\n",
    "print(confusion_matrix(y_true,y_pred))\n",
    "print(classification_report(y_true,y_pred))\n",
    "print(\"Precision: \",precision_score(y_true, y_pred, average=\"macro\"))\n",
    "print(\"Recall: \",recall_score(y_true, y_pred, average=\"macro\"))\n",
    "print(\"F1: \",f1_score(y_true, y_pred,  average=\"macro\"))\n",
    "print(\"Accuracy: \",accuracy_score(y_true, y_pred))"
   ]
  },
  {
   "cell_type": "code",
   "execution_count": 39,
   "id": "f22a7738",
   "metadata": {},
   "outputs": [
    {
     "data": {
      "text/plain": [
       "0.7423654822056167"
      ]
     },
     "execution_count": 39,
     "metadata": {},
     "output_type": "execute_result"
    }
   ],
   "source": [
    "#### ROC-AUC\n",
    "\n",
    "from sklearn.preprocessing import OneHotEncoder\n",
    "\n",
    "enc = OneHotEncoder(handle_unknown='ignore')\n",
    "y_pred_roc = enc.fit_transform(np.array(y_pred).reshape(-1,1))\n",
    "Y_pred = y_pred_roc.toarray()\n",
    "\n",
    "y_true_r = enc.fit_transform(np.array(y_true).reshape(-1,1))\n",
    "y_true_roc = y_true_r.toarray()\n",
    "\n",
    "from sklearn.metrics import roc_auc_score\n",
    "roc_auc_score(y_true_roc,Y_pred, multi_class='ovr')"
   ]
  },
  {
   "cell_type": "markdown",
   "id": "66d16762",
   "metadata": {},
   "source": [
    "### random 45"
   ]
  },
  {
   "cell_type": "code",
   "execution_count": 43,
   "id": "56581cfb",
   "metadata": {},
   "outputs": [
    {
     "name": "stdout",
     "output_type": "stream",
     "text": [
      "[[ 112   68   14]\n",
      " [  81 1251   49]\n",
      " [  15   64   46]]\n",
      "              precision    recall  f1-score   support\n",
      "\n",
      "        -1.0       0.54      0.58      0.56       194\n",
      "         0.0       0.90      0.91      0.91      1381\n",
      "         1.0       0.42      0.37      0.39       125\n",
      "\n",
      "    accuracy                           0.83      1700\n",
      "   macro avg       0.62      0.62      0.62      1700\n",
      "weighted avg       0.83      0.83      0.83      1700\n",
      "\n",
      "Precision:  0.6216784005396714\n",
      "Recall:  0.6170616342060015\n",
      "F1:  0.6185287214403571\n",
      "Accuracy:  0.8288235294117647\n"
     ]
    }
   ],
   "source": [
    "#example training\n",
    "from sklearn.metrics import classification_report, confusion_matrix, accuracy_score, precision_score, recall_score, f1_score\n",
    "#[None, 'micro', 'macro', 'weighted'].\n",
    "print(confusion_matrix(y_true,y_pred))\n",
    "print(classification_report(y_true,y_pred))\n",
    "print(\"Precision: \",precision_score(y_true, y_pred, average=\"macro\"))\n",
    "print(\"Recall: \",recall_score(y_true, y_pred, average=\"macro\"))\n",
    "print(\"F1: \",f1_score(y_true, y_pred,  average=\"macro\"))\n",
    "print(\"Accuracy: \",accuracy_score(y_true, y_pred))"
   ]
  },
  {
   "cell_type": "code",
   "execution_count": 44,
   "id": "8bbc34fc",
   "metadata": {},
   "outputs": [
    {
     "data": {
      "text/plain": [
       "0.722274463208235"
      ]
     },
     "execution_count": 44,
     "metadata": {},
     "output_type": "execute_result"
    }
   ],
   "source": [
    "#### ROC-AUC\n",
    "\n",
    "from sklearn.preprocessing import OneHotEncoder\n",
    "\n",
    "enc = OneHotEncoder(handle_unknown='ignore')\n",
    "y_pred_roc = enc.fit_transform(np.array(y_pred).reshape(-1,1))\n",
    "Y_pred = y_pred_roc.toarray()\n",
    "\n",
    "y_true_r = enc.fit_transform(np.array(y_true).reshape(-1,1))\n",
    "y_true_roc = y_true_r.toarray()\n",
    "\n",
    "from sklearn.metrics import roc_auc_score\n",
    "roc_auc_score(y_true_roc,Y_pred, multi_class='ovr')"
   ]
  },
  {
   "cell_type": "code",
   "execution_count": null,
   "id": "b7bf79b1",
   "metadata": {},
   "outputs": [],
   "source": []
  }
 ],
 "metadata": {
  "kernelspec": {
   "display_name": "Python 3 (ipykernel)",
   "language": "python",
   "name": "python3"
  },
  "language_info": {
   "codemirror_mode": {
    "name": "ipython",
    "version": 3
   },
   "file_extension": ".py",
   "mimetype": "text/x-python",
   "name": "python",
   "nbconvert_exporter": "python",
   "pygments_lexer": "ipython3",
   "version": "3.9.7"
  }
 },
 "nbformat": 4,
 "nbformat_minor": 5
}
